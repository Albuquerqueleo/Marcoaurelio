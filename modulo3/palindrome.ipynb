{
 "cells": [
  {
   "cell_type": "code",
   "execution_count": null,
   "id": "1cb68832-705f-4cc7-b84f-40fb4d1145c9",
   "metadata": {},
   "outputs": [],
   "source": []
  },
  {
   "cell_type": "code",
   "execution_count": null,
   "id": "7ebaa091-dabb-49ee-8088-e3d1efd7994f",
   "metadata": {},
   "outputs": [],
   "source": []
  },
  {
   "cell_type": "code",
   "execution_count": null,
   "id": "059812db-d3ae-4c3d-8fe4-d2969954c3f6",
   "metadata": {},
   "outputs": [],
   "source": []
  },
  {
   "cell_type": "code",
   "execution_count": 5,
   "id": "b92bbbf3-fe79-434e-9521-a304a7ae79d5",
   "metadata": {},
   "outputs": [],
   "source": [
    "palavra = \"toada\""
   ]
  },
  {
   "cell_type": "code",
   "execution_count": 56,
   "id": "3050ece6-ae66-48ff-9ed9-ac086d8f1cb6",
   "metadata": {},
   "outputs": [],
   "source": [
    "def inverso(palavra):\n",
    "    palavra_invertida = ''\n",
    "    for c in reversed(palavra):\n",
    "        palavra_invertida = palavra_invertida + c\n",
    "    return palavra_invertida"
   ]
  },
  {
   "cell_type": "code",
   "execution_count": 57,
   "id": "be1d5365-67c0-4de1-b2cc-55096d8fe948",
   "metadata": {},
   "outputs": [],
   "source": [
    "# def palindrome(palavra):\n",
    "#     if palavra == inverso(palavra):\n",
    "#         return True\n",
    "#     else:\n",
    "#         return False"
   ]
  },
  {
   "cell_type": "code",
   "execution_count": 58,
   "id": "dc508325-a303-48e1-a744-a2ab716051a5",
   "metadata": {},
   "outputs": [],
   "source": [
    "def palindrome(palavra):\n",
    "    return palavra == inverso(palavra)"
   ]
  },
  {
   "cell_type": "code",
   "execution_count": 60,
   "id": "87451ca5-19f7-496d-96bd-007c905231f4",
   "metadata": {},
   "outputs": [
    {
     "ename": "TypeError",
     "evalue": "'int' object is not reversible",
     "output_type": "error",
     "traceback": [
      "\u001b[0;31m---------------------------------------------------------------------------\u001b[0m",
      "\u001b[0;31mTypeError\u001b[0m                                 Traceback (most recent call last)",
      "Input \u001b[0;32mIn [60]\u001b[0m, in \u001b[0;36m<cell line: 1>\u001b[0;34m()\u001b[0m\n\u001b[0;32m----> 1\u001b[0m \u001b[43mpalindrome\u001b[49m\u001b[43m(\u001b[49m\u001b[38;5;241;43m101\u001b[39;49m\u001b[43m)\u001b[49m\n",
      "Input \u001b[0;32mIn [58]\u001b[0m, in \u001b[0;36mpalindrome\u001b[0;34m(palavra)\u001b[0m\n\u001b[1;32m      1\u001b[0m \u001b[38;5;28;01mdef\u001b[39;00m \u001b[38;5;21mpalindrome\u001b[39m(palavra):\n\u001b[0;32m----> 2\u001b[0m     \u001b[38;5;28;01mreturn\u001b[39;00m palavra \u001b[38;5;241m==\u001b[39m \u001b[43minverso\u001b[49m\u001b[43m(\u001b[49m\u001b[43mpalavra\u001b[49m\u001b[43m)\u001b[49m\n",
      "Input \u001b[0;32mIn [56]\u001b[0m, in \u001b[0;36minverso\u001b[0;34m(palavra)\u001b[0m\n\u001b[1;32m      1\u001b[0m \u001b[38;5;28;01mdef\u001b[39;00m \u001b[38;5;21minverso\u001b[39m(palavra):\n\u001b[1;32m      2\u001b[0m     palavra_invertida \u001b[38;5;241m=\u001b[39m \u001b[38;5;124m'\u001b[39m\u001b[38;5;124m'\u001b[39m\n\u001b[0;32m----> 3\u001b[0m     \u001b[38;5;28;01mfor\u001b[39;00m c \u001b[38;5;129;01min\u001b[39;00m \u001b[38;5;28;43mreversed\u001b[39;49m\u001b[43m(\u001b[49m\u001b[43mpalavra\u001b[49m\u001b[43m)\u001b[49m:\n\u001b[1;32m      4\u001b[0m         palavra_invertida \u001b[38;5;241m=\u001b[39m palavra_invertida \u001b[38;5;241m+\u001b[39m c\n\u001b[1;32m      5\u001b[0m     \u001b[38;5;28;01mreturn\u001b[39;00m palavra_invertida\n",
      "\u001b[0;31mTypeError\u001b[0m: 'int' object is not reversible"
     ]
    }
   ],
   "source": [
    "palindrome(101)"
   ]
  },
  {
   "cell_type": "code",
   "execution_count": null,
   "id": "cf35e9cb-149f-47f5-9145-67a79812e571",
   "metadata": {},
   "outputs": [],
   "source": []
  }
 ],
 "metadata": {
  "kernelspec": {
   "display_name": "Python 3 (ipykernel)",
   "language": "python",
   "name": "python3"
  },
  "language_info": {
   "codemirror_mode": {
    "name": "ipython",
    "version": 3
   },
   "file_extension": ".py",
   "mimetype": "text/x-python",
   "name": "python",
   "nbconvert_exporter": "python",
   "pygments_lexer": "ipython3",
   "version": "3.10.6"
  }
 },
 "nbformat": 4,
 "nbformat_minor": 5
}
