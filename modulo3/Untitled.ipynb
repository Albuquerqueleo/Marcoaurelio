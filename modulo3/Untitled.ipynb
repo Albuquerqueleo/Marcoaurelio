{
 "cells": [
  {
   "cell_type": "code",
   "execution_count": null,
   "id": "4214b264-eacc-4cd3-83e0-c4e9eb2fb64a",
   "metadata": {},
   "outputs": [],
   "source": []
  },
  {
   "cell_type": "code",
   "execution_count": 2,
   "id": "190288b1-22e1-4023-8103-7ef8b33a0fe0",
   "metadata": {},
   "outputs": [],
   "source": [
    "n=10\n",
    "t = \"blalbalbla\"\n",
    "r = 3.1514167"
   ]
  },
  {
   "cell_type": "code",
   "execution_count": 3,
   "id": "671c8908-bfd8-4acc-9daf-4907dfcb2521",
   "metadata": {},
   "outputs": [
    {
     "data": {
      "text/plain": [
       "(int, str, float)"
      ]
     },
     "execution_count": 3,
     "metadata": {},
     "output_type": "execute_result"
    }
   ],
   "source": [
    "type(n), type(t), type(r)"
   ]
  },
  {
   "cell_type": "code",
   "execution_count": null,
   "id": "c5330703-5075-495e-80bf-031c2184481c",
   "metadata": {},
   "outputs": [],
   "source": []
  },
  {
   "cell_type": "code",
   "execution_count": 12,
   "id": "c2537f7e-86c5-42b3-82d5-a301a796cca8",
   "metadata": {},
   "outputs": [],
   "source": [
    "def fatorial(n):\n",
    "    \n",
    "    if not isinstance(n,int):\n",
    "        print(n, 'não é um inteiro!')\n",
    "        return None\n",
    "    \n",
    "    assert( n>= 0)\n",
    "    if n == 0:\n",
    "        return 1\n",
    "    else:\n",
    "        return n*fatorial(n-1)\n"
   ]
  },
  {
   "cell_type": "code",
   "execution_count": 8,
   "id": "0c954a1d-3a39-42f0-8a3d-19eb2ccda090",
   "metadata": {},
   "outputs": [
    {
     "name": "stdout",
     "output_type": "stream",
     "text": [
      "texto não é um inteiro!\n"
     ]
    }
   ],
   "source": [
    "fatorial('texto')"
   ]
  },
  {
   "cell_type": "code",
   "execution_count": 10,
   "id": "95d9da5b-477d-43b3-bd7a-8516bff64387",
   "metadata": {},
   "outputs": [
    {
     "data": {
      "text/plain": [
       "True"
      ]
     },
     "execution_count": 10,
     "metadata": {},
     "output_type": "execute_result"
    }
   ],
   "source": [
    "isinstance('texto',str)"
   ]
  },
  {
   "cell_type": "code",
   "execution_count": null,
   "id": "8805d8a9-1351-4889-83ac-6a85dd34d576",
   "metadata": {},
   "outputs": [],
   "source": []
  }
 ],
 "metadata": {
  "kernelspec": {
   "display_name": "Python 3 (ipykernel)",
   "language": "python",
   "name": "python3"
  },
  "language_info": {
   "codemirror_mode": {
    "name": "ipython",
    "version": 3
   },
   "file_extension": ".py",
   "mimetype": "text/x-python",
   "name": "python",
   "nbconvert_exporter": "python",
   "pygments_lexer": "ipython3",
   "version": "3.10.6"
  }
 },
 "nbformat": 4,
 "nbformat_minor": 5
}
