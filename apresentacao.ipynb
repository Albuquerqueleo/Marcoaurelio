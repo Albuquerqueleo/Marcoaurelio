{
 "cells": [
  {
   "cell_type": "markdown",
   "id": "11c0d968-b1a2-4bcb-93b6-0c257776a9bd",
   "metadata": {},
   "source": [
    "![](unb.jpg)\n",
    "![](python-logo.png)\n",
    "# **Aprenda Python, errando**.\n",
    "\n",
    "Olá pessoal, este curso de \"Introdução à Programação Usando Python\" e está sendo ministrado na Universidade de Brasília (UnB) em março de 2023, para estudantes dos cursos de Licenciatura em Ciências Naturais, Gestão do Agronegócio, além de servidores e alguns estudantes externos. \n",
    "\n",
    "O curso dando certo colocarei um agradecimento à eles aqui, mas se der errado a responsabilidade é toda minha. \n",
    "\n",
    "Para este curso escolhi três livros, como bibliografia básica:\n",
    "\n",
    "- [Pense em Python, 2ª Edição (Editora Novatec)](https://penseallen.github.io/PensePython2e/), de Allen B. Downey.\n",
    "- Aprenda Python do Jeito certo, de Shaw...\n",
    "- Data Science do Zero (Grus)\n",
    "\n",
    "\n",
    "\n",
    "Escolhi uma metodologia \"Hands On\", A metodologique irei adotar mão na massa desde o primeiro momento"
   ]
  },
  {
   "cell_type": "code",
   "execution_count": 1,
   "id": "6480dcbb-9e6d-4a5b-93aa-85d7aba58c99",
   "metadata": {},
   "outputs": [],
   "source": [
    "texto = \"Isto é uma orientação\""
   ]
  },
  {
   "cell_type": "code",
   "execution_count": 2,
   "id": "b8b153e4-3ea2-4132-bfab-ee0a20b08765",
   "metadata": {},
   "outputs": [
    {
     "data": {
      "text/plain": [
       "str"
      ]
     },
     "execution_count": 2,
     "metadata": {},
     "output_type": "execute_result"
    }
   ],
   "source": [
    "type(texto)"
   ]
  },
  {
   "cell_type": "code",
   "execution_count": 6,
   "id": "76c650fb-959d-406a-939e-50cb1c069d8c",
   "metadata": {},
   "outputs": [],
   "source": [
    "texto_maiusculo = texto.upper()"
   ]
  },
  {
   "cell_type": "code",
   "execution_count": 4,
   "id": "b9015b9e-8110-4fc5-a401-c0a79b4510c9",
   "metadata": {},
   "outputs": [
    {
     "data": {
      "text/plain": [
       "'isto é uma orientação'"
      ]
     },
     "execution_count": 4,
     "metadata": {},
     "output_type": "execute_result"
    }
   ],
   "source": [
    "texto.lower()"
   ]
  },
  {
   "cell_type": "code",
   "execution_count": 5,
   "id": "82e2aecc-8c01-4fa9-98fa-a3db96f8687a",
   "metadata": {},
   "outputs": [
    {
     "data": {
      "text/plain": [
       "'Isto é uma orientação'"
      ]
     },
     "execution_count": 5,
     "metadata": {},
     "output_type": "execute_result"
    }
   ],
   "source": [
    "texto"
   ]
  },
  {
   "cell_type": "code",
   "execution_count": 7,
   "id": "f150a74f-e06d-4006-a7a7-55cb7b7757dc",
   "metadata": {},
   "outputs": [
    {
     "data": {
      "text/plain": [
       "'Isto é uma orientação'"
      ]
     },
     "execution_count": 7,
     "metadata": {},
     "output_type": "execute_result"
    }
   ],
   "source": [
    "texto"
   ]
  },
  {
   "cell_type": "code",
   "execution_count": 8,
   "id": "fb5f7ffe-01cc-4306-aa1c-f1cc0714b11f",
   "metadata": {},
   "outputs": [
    {
     "data": {
      "text/plain": [
       "'ISTO É UMA ORIENTAÇÃO'"
      ]
     },
     "execution_count": 8,
     "metadata": {},
     "output_type": "execute_result"
    }
   ],
   "source": [
    "texto_maiusculo"
   ]
  },
  {
   "cell_type": "code",
   "execution_count": 9,
   "id": "9fbde82b-4a9d-425b-aa79-0dd8af46aee7",
   "metadata": {},
   "outputs": [
    {
     "data": {
      "text/plain": [
       "['Isto', 'é', 'uma', 'orientação']"
      ]
     },
     "execution_count": 9,
     "metadata": {},
     "output_type": "execute_result"
    }
   ],
   "source": [
    "texto.split()"
   ]
  },
  {
   "cell_type": "code",
   "execution_count": null,
   "id": "3638c1a5-5ecc-4339-8255-8c44dd9e2948",
   "metadata": {},
   "outputs": [],
   "source": []
  },
  {
   "cell_type": "code",
   "execution_count": null,
   "id": "c97511c4-7542-42a1-886d-2c34daabd951",
   "metadata": {},
   "outputs": [],
   "source": []
  }
 ],
 "metadata": {
  "kernelspec": {
   "display_name": "Python 3 (ipykernel)",
   "language": "python",
   "name": "python3"
  },
  "language_info": {
   "codemirror_mode": {
    "name": "ipython",
    "version": 3
   },
   "file_extension": ".py",
   "mimetype": "text/x-python",
   "name": "python",
   "nbconvert_exporter": "python",
   "pygments_lexer": "ipython3",
   "version": "3.10.9"
  }
 },
 "nbformat": 4,
 "nbformat_minor": 5
}
