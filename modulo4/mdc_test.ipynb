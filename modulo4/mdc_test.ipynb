{
 "cells": [
  {
   "cell_type": "code",
   "execution_count": 2,
   "metadata": {},
   "outputs": [],
   "source": [
    "from mdc import mdc, mdc_for, mdc_while"
   ]
  },
  {
   "cell_type": "code",
   "execution_count": 6,
   "metadata": {},
   "outputs": [
    {
     "name": "stdout",
     "output_type": "stream",
     "text": [
      "a  b  mdc   for   while\n",
      "1  1  1   None   1\n",
      "10  10  10   5   10\n",
      "12  8  4   4   4\n",
      "4  2  2   1   2\n",
      "25  10  5   5   5\n",
      "99  12  3   3   3\n"
     ]
    }
   ],
   "source": [
    "test = ((1,1),(10,10), (12,8), (4,2), (25,10), (99,12))\n",
    "\n",
    "print(\"a  b  mdc   for   while\")\n",
    "for a,b in test:\n",
    "    print(f\"{a}  {b}  {mdc(a,b)}   {mdc_for(a,b)}   {mdc_while(a,b)}\")\n"
   ]
  },
  {
   "cell_type": "code",
   "execution_count": 4,
   "metadata": {},
   "outputs": [],
   "source": [
    "printv_mdc"
   ]
  },
  {
   "cell_type": "code",
   "execution_count": null,
   "metadata": {},
   "outputs": [],
   "source": []
  }
 ],
 "metadata": {
  "kernelspec": {
   "display_name": "base",
   "language": "python",
   "name": "python3"
  },
  "language_info": {
   "codemirror_mode": {
    "name": "ipython",
    "version": 3
   },
   "file_extension": ".py",
   "mimetype": "text/x-python",
   "name": "python",
   "nbconvert_exporter": "python",
   "pygments_lexer": "ipython3",
   "version": "3.10.9"
  },
  "orig_nbformat": 4
 },
 "nbformat": 4,
 "nbformat_minor": 2
}
