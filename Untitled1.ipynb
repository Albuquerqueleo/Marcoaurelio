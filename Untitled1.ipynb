{
 "cells": [
  {
   "cell_type": "code",
   "execution_count": 20,
   "id": "afd82397-368f-447f-8ac6-f4c9bd898d48",
   "metadata": {},
   "outputs": [],
   "source": [
    "nome = 'Leonardo' # comentário\n",
    "sobrenome = 'Albuquerque'"
   ]
  },
  {
   "cell_type": "code",
   "execution_count": 21,
   "id": "da93bef4-dc49-46a0-bb9f-f69e41f84bd2",
   "metadata": {},
   "outputs": [
    {
     "name": "stdout",
     "output_type": "stream",
     "text": [
      "Leonardo\n"
     ]
    }
   ],
   "source": [
    "# Isto é um comentário em Markdown\n",
    "print(nome)"
   ]
  },
  {
   "cell_type": "code",
   "execution_count": null,
   "id": "80104275-e241-40d0-823c-875f15836119",
   "metadata": {},
   "outputs": [],
   "source": []
  },
  {
   "cell_type": "code",
   "execution_count": 2,
   "id": "b5258a60-cf95-40d5-a04a-afb3f746fd4e",
   "metadata": {},
   "outputs": [],
   "source": [
    "nome_completo = nome + ' ' + sobrenome"
   ]
  },
  {
   "cell_type": "code",
   "execution_count": 3,
   "id": "1447de21-15e7-4571-a6bc-d0277f392ab4",
   "metadata": {},
   "outputs": [
    {
     "data": {
      "text/plain": [
       "'Leonardo'"
      ]
     },
     "execution_count": 3,
     "metadata": {},
     "output_type": "execute_result"
    }
   ],
   "source": [
    "nome"
   ]
  },
  {
   "cell_type": "code",
   "execution_count": 8,
   "id": "99c12651-4f87-4a33-a93b-71cf17191e88",
   "metadata": {},
   "outputs": [
    {
     "data": {
      "text/plain": [
       "'Leonardo Albuquerque'"
      ]
     },
     "execution_count": 8,
     "metadata": {},
     "output_type": "execute_result"
    }
   ],
   "source": [
    "nome"
   ]
  },
  {
   "cell_type": "code",
   "execution_count": 4,
   "id": "dd847aa9-f39d-4554-b4b9-96dd83615588",
   "metadata": {},
   "outputs": [
    {
     "data": {
      "text/plain": [
       "'Albuquerque'"
      ]
     },
     "execution_count": 4,
     "metadata": {},
     "output_type": "execute_result"
    }
   ],
   "source": [
    "sobrenome"
   ]
  },
  {
   "cell_type": "code",
   "execution_count": 5,
   "id": "ef89e08e-0215-4980-aff4-fdc2fd9a69cb",
   "metadata": {},
   "outputs": [
    {
     "data": {
      "text/plain": [
       "'Leonardo Albuquerque'"
      ]
     },
     "execution_count": 5,
     "metadata": {},
     "output_type": "execute_result"
    }
   ],
   "source": [
    "nome_completo"
   ]
  },
  {
   "cell_type": "code",
   "execution_count": 6,
   "id": "cadc89c5-0f72-4867-9461-83cfa08c908d",
   "metadata": {},
   "outputs": [],
   "source": [
    "nome = nome_completo"
   ]
  },
  {
   "cell_type": "code",
   "execution_count": 7,
   "id": "8bbf3a35-3c10-4b10-a073-7da0f0625207",
   "metadata": {},
   "outputs": [
    {
     "data": {
      "text/plain": [
       "'Leonardo Albuquerque'"
      ]
     },
     "execution_count": 7,
     "metadata": {},
     "output_type": "execute_result"
    }
   ],
   "source": [
    "nome"
   ]
  },
  {
   "cell_type": "code",
   "execution_count": null,
   "id": "e5861be0-07d2-48ee-8ac8-d5b45bd228c1",
   "metadata": {},
   "outputs": [],
   "source": []
  },
  {
   "cell_type": "code",
   "execution_count": null,
   "id": "50451c56-58e2-4658-b3fa-6d41f365294e",
   "metadata": {},
   "outputs": [],
   "source": []
  },
  {
   "cell_type": "code",
   "execution_count": null,
   "id": "2ed49d92-fe0c-4d29-9b30-47a883a24d77",
   "metadata": {},
   "outputs": [],
   "source": []
  },
  {
   "cell_type": "code",
   "execution_count": 9,
   "id": "1ecda585-3614-43a1-bba1-f4222e9917c7",
   "metadata": {},
   "outputs": [],
   "source": [
    "largura = 30\n",
    "altura = 10"
   ]
  },
  {
   "cell_type": "code",
   "execution_count": 19,
   "id": "6a8f6c0b-b9c9-46df-95c5-a547bda2f949",
   "metadata": {},
   "outputs": [],
   "source": []
  },
  {
   "cell_type": "code",
   "execution_count": null,
   "id": "0f3a804c-62f1-41e7-a950-d72c05fc6a67",
   "metadata": {},
   "outputs": [],
   "source": []
  },
  {
   "cell_type": "code",
   "execution_count": null,
   "id": "f504e98e-34eb-4638-9a56-e6ff04e303cd",
   "metadata": {},
   "outputs": [],
   "source": []
  }
 ],
 "metadata": {
  "kernelspec": {
   "display_name": "Python 3 (ipykernel)",
   "language": "python",
   "name": "python3"
  },
  "language_info": {
   "codemirror_mode": {
    "name": "ipython",
    "version": 3
   },
   "file_extension": ".py",
   "mimetype": "text/x-python",
   "name": "python",
   "nbconvert_exporter": "python",
   "pygments_lexer": "ipython3",
   "version": "3.10.9"
  }
 },
 "nbformat": 4,
 "nbformat_minor": 5
}
