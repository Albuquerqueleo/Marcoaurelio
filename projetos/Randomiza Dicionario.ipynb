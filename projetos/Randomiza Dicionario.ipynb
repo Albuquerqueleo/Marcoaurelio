{
 "cells": [
  {
   "cell_type": "code",
   "execution_count": 1,
   "id": "28223baf-6bb4-42aa-bbca-85b84035169f",
   "metadata": {},
   "outputs": [],
   "source": [
    "import random\n",
    "import time\n",
    "\n",
    "rng = random.Random()\n",
    "current_time = time.time()\n",
    "rng.seed(time.time())"
   ]
  },
  {
   "cell_type": "code",
   "execution_count": 3,
   "id": "9261b644-a356-44b6-a2b2-65fd3b83b7ad",
   "metadata": {},
   "outputs": [],
   "source": [
    "with open('../dados/palavras.txt') as file:\n",
    "    words = file.readlines()\n",
    "\n",
    "n = len(words)"
   ]
  },
  {
   "cell_type": "code",
   "execution_count": 4,
   "id": "3b670439-9975-41b6-8e44-18a0881881c8",
   "metadata": {},
   "outputs": [],
   "source": [
    "for i in range(n):\n",
    "    j = rng.randint(0,n-1)    \n",
    "    words[i], words[j] = words[j], words[i]"
   ]
  },
  {
   "cell_type": "code",
   "execution_count": 18,
   "id": "650239b5-fb4d-4dcf-a2a5-dc1d3c6748fe",
   "metadata": {},
   "outputs": [
    {
     "name": "stdout",
     "output_type": "stream",
     "text": [
      "Writing words from  5271394 to 10542787 into file palavras-aleatorias-0.txt\n",
      "Writing words from  2635697 to 5271393 into file palavras-aleatorias-1.txt\n",
      "Writing words from  1317848 to 2635696 into file palavras-aleatorias-2.txt\n",
      "Writing words from  658924 to 1317847 into file palavras-aleatorias-3.txt\n",
      "Writing words from  329462 to 658923 into file palavras-aleatorias-4.txt\n",
      "Writing words from  164731 to 329461 into file palavras-aleatorias-5.txt\n",
      "Writing words from  82365 to 164730 into file palavras-aleatorias-6.txt\n",
      "Writing words from  41182 to 82364 into file palavras-aleatorias-7.txt\n",
      "Writing words from  20591 to 41181 into file palavras-aleatorias-8.txt\n",
      "Writing words from  10295 to 20590 into file palavras-aleatorias-9.txt\n",
      "Writing words from  5147 to 10294 into file palavras-aleatorias-10.txt\n",
      "Writing words from  2573 to 5146 into file palavras-aleatorias-11.txt\n",
      "Writing words from  1286 to 2572 into file palavras-aleatorias-12.txt\n",
      "Writing words from  0 to 1285 into file palavras-aleatorias-12.txt\n"
     ]
    }
   ],
   "source": [
    "prefix = 'palavras-aleatorias'\n",
    "sufix = '.txt'\n",
    "\n",
    "half = n//2\n",
    "size = n\n",
    "i = 0\n",
    "while half > 1000:\n",
    "    filename = prefix + '-' + str(i) + sufix        \n",
    "    print(f\"Writing words from \", half, \"to\", size-1, \"into file\", filename)\n",
    "    \n",
    "    i += 1\n",
    "    size = half\n",
    "    half = size // 2\n",
    "\n",
    "half = 0\n",
    "print(f\"Writing words from \", half, \"to\", size-1, \"into file\", filename)      "
   ]
  },
  {
   "cell_type": "code",
   "execution_count": 9,
   "id": "82916e82",
   "metadata": {},
   "outputs": [
    {
     "name": "stdout",
     "output_type": "stream",
     "text": [
      "Writing words from  5271394 to 10542787 into file ../dados/palavras-aleatorias-0.txt\n",
      "Writing words from  2635697 to 5271393 into file ../dados/palavras-aleatorias-1.txt\n",
      "Writing words from  1317848 to 2635696 into file ../dados/palavras-aleatorias-2.txt\n",
      "Writing words from  658924 to 1317847 into file ../dados/palavras-aleatorias-3.txt\n",
      "Writing words from  329462 to 658923 into file ../dados/palavras-aleatorias-4.txt\n",
      "Writing words from  164731 to 329461 into file ../dados/palavras-aleatorias-5.txt\n",
      "Writing words from  82365 to 164730 into file ../dados/palavras-aleatorias-6.txt\n",
      "Writing words from  41182 to 82364 into file ../dados/palavras-aleatorias-7.txt\n",
      "Writing words from  20591 to 41181 into file ../dados/palavras-aleatorias-8.txt\n",
      "Writing words from  10295 to 20590 into file ../dados/palavras-aleatorias-9.txt\n",
      "Writing words from  5147 to 10294 into file ../dados/palavras-aleatorias-10.txt\n",
      "Writing words from  2573 to 5146 into file ../dados/palavras-aleatorias-11.txt\n",
      "Writing words from  1286 to 2572 into file ../dados/palavras-aleatorias-12.txt\n",
      "Writing words from  0 to 1285 into file ../dados/palavras-aleatorias-12.txt\n"
     ]
    }
   ],
   "source": [
    "prefix = 'palavras-aleatorias'\n",
    "sufix = '.txt'\n",
    "\n",
    "half = n//2\n",
    "size = n\n",
    "i = 0\n",
    "while half > 1000:\n",
    "    filename = '../dados/' + prefix + '-' + str(i) + sufix\n",
    "    print(f\"Writing words from \", half, \"to\", size-1, \"into file\", filename)\n",
    "    with open(filename,'w') as file:\n",
    "        # file.write(str(half)+' ' +str(size))\n",
    "        for k in range(half,size):\n",
    "            file.write(words[k])\n",
    "\n",
    "    i += 1\n",
    "    size = half\n",
    "    half = size // 2\n",
    "\n",
    "half = 0\n",
    "print(f\"Writing words from \", half, \"to\", size-1, \"into file\", filename)      "
   ]
  },
  {
   "cell_type": "markdown",
   "id": "3c5b4280-103f-49b0-9166-50c79681bd78",
   "metadata": {},
   "source": [
    "-\n",
    "-\n",
    "-\n",
    "-\n",
    "-\n",
    "-\n",
    "-\n",
    "-\n",
    "Below are some exploratory code."
   ]
  },
  {
   "cell_type": "code",
   "execution_count": 1,
   "id": "51a8d556-7abe-416d-b229-cd44f078e108",
   "metadata": {},
   "outputs": [],
   "source": [
    "# certainly there is a stdlibrary function doing this.\n",
    "def linecount(file) -> int:\n",
    "    n = 0\n",
    "    for line in file:\n",
    "        n += 1\n",
    "    \n",
    "    return n"
   ]
  },
  {
   "cell_type": "code",
   "execution_count": null,
   "id": "34383ecf-2653-4a30-89e7-86b5e0d94006",
   "metadata": {},
   "outputs": [],
   "source": [
    "n = linecount(file)"
   ]
  },
  {
   "cell_type": "code",
   "execution_count": 18,
   "id": "3774ad97-1148-4324-9ca0-7e00f1bfcfe0",
   "metadata": {},
   "outputs": [
    {
     "name": "stdout",
     "output_type": "stream",
     "text": [
      "10542788\n"
     ]
    }
   ],
   "source": [
    "words = []\n",
    "for line in file:\n",
    "    words = \n",
    "    \n",
    "    \n",
    "\n",
    "print(n)"
   ]
  },
  {
   "cell_type": "code",
   "execution_count": 16,
   "id": "3f1ecb99-dfe4-495d-bd5a-738d945979e4",
   "metadata": {},
   "outputs": [],
   "source": [
    "file.seek(0)\n"
   ]
  },
  {
   "cell_type": "code",
   "execution_count": 17,
   "id": "9eb5d84e-fa58-4450-b240-c125b7fe53e6",
   "metadata": {},
   "outputs": [
    {
     "data": {
      "text/plain": [
       "10542788"
      ]
     },
     "execution_count": 17,
     "metadata": {},
     "output_type": "execute_result"
    }
   ],
   "source": [
    "len(teste)"
   ]
  },
  {
   "cell_type": "code",
   "execution_count": 15,
   "id": "303de0de-4e61-496e-840d-5d8622e5e53b",
   "metadata": {},
   "outputs": [
    {
     "data": {
      "text/plain": [
       "['a\\n', 'AA\\n', 'ai\\n', 'ais\\n']"
      ]
     },
     "execution_count": 15,
     "metadata": {},
     "output_type": "execute_result"
    }
   ],
   "source": [
    "teste"
   ]
  },
  {
   "cell_type": "code",
   "execution_count": 11,
   "id": "a1ddd1ed-1ddb-4054-96dc-24444aa2f716",
   "metadata": {},
   "outputs": [
    {
     "name": "stdout",
     "output_type": "stream",
     "text": [
      "café\n",
      "leite\n",
      "chocolate\n"
     ]
    }
   ],
   "source": [
    "lista = [\"café\", \"leite\",'chocolate']\n",
    "for item in lista:\n",
    "    print(item)"
   ]
  },
  {
   "cell_type": "code",
   "execution_count": 16,
   "id": "7ce92811",
   "metadata": {},
   "outputs": [
    {
     "data": {
      "text/plain": [
       "['a', 'c', 'd', 'd', 'e', 'f', 'g', 's', 's', 'y']"
      ]
     },
     "execution_count": 16,
     "metadata": {},
     "output_type": "execute_result"
    }
   ],
   "source": [
    "letras = \"decfsaygds\"\n",
    "lista = list(letras)\n",
    "lista.sort()\n",
    "lista"
   ]
  },
  {
   "cell_type": "code",
   "execution_count": null,
   "id": "0d23d258",
   "metadata": {},
   "outputs": [],
   "source": []
  }
 ],
 "metadata": {
  "kernelspec": {
   "display_name": "Python 3 (ipykernel)",
   "language": "python",
   "name": "python3"
  },
  "language_info": {
   "codemirror_mode": {
    "name": "ipython",
    "version": 3
   },
   "file_extension": ".py",
   "mimetype": "text/x-python",
   "name": "python",
   "nbconvert_exporter": "python",
   "pygments_lexer": "ipython3",
   "version": "3.10.6"
  }
 },
 "nbformat": 4,
 "nbformat_minor": 5
}
