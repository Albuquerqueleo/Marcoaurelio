{
 "cells": [
  {
   "cell_type": "markdown",
   "id": "f8686f27-86fa-419d-aacf-1c865718da43",
   "metadata": {},
   "source": [
    "Recursão com `for` de difentes maneiras"
   ]
  },
  {
   "cell_type": "code",
   "execution_count": 7,
   "id": "2334429e-d4eb-49bb-860c-a3af311f3606",
   "metadata": {},
   "outputs": [
    {
     "name": "stdout",
     "output_type": "stream",
     "text": [
      "0\n",
      "1\n",
      "2\n",
      "3\n",
      "4\n",
      "texto\n",
      "<built-in function print>\n"
     ]
    }
   ],
   "source": [
    "for i in 0, 1, 2, 3, 4, 'texto', print:\n",
    "    print(i)"
   ]
  },
  {
   "cell_type": "code",
   "execution_count": 6,
   "id": "5344fe50-a2ba-4d4a-b901-69911f2bb02b",
   "metadata": {},
   "outputs": [
    {
     "name": "stdout",
     "output_type": "stream",
     "text": [
      "0 0 0\n",
      "1 1 1\n",
      "2 4 0\n",
      "3 9 1\n",
      "4 16 0\n",
      "7 49 1\n"
     ]
    }
   ],
   "source": [
    "for i in 0, 1, 2, 3, 4, 7:\n",
    "    print(i, i**2, i%2)"
   ]
  },
  {
   "cell_type": "code",
   "execution_count": 8,
   "id": "c1427ef3-c875-403c-9357-c1047cd6dc1a",
   "metadata": {},
   "outputs": [
    {
     "name": "stdout",
     "output_type": "stream",
     "text": [
      "0\n",
      "1\n",
      "2\n",
      "3\n"
     ]
    }
   ],
   "source": [
    "for i in range(4):\n",
    "    print(i)"
   ]
  },
  {
   "cell_type": "code",
   "execution_count": 11,
   "id": "69fef92f-af8d-4fd3-bb11-3b7cf60377ca",
   "metadata": {},
   "outputs": [
    {
     "name": "stdout",
     "output_type": "stream",
     "text": [
      "27\n",
      "40\n",
      "53\n",
      "66\n",
      "79\n"
     ]
    }
   ],
   "source": [
    "for i in range(27, 83, 13):\n",
    "    print(i)"
   ]
  }
 ],
 "metadata": {
  "kernelspec": {
   "display_name": "Python 3 (ipykernel)",
   "language": "python",
   "name": "python3"
  },
  "language_info": {
   "codemirror_mode": {
    "name": "ipython",
    "version": 3
   },
   "file_extension": ".py",
   "mimetype": "text/x-python",
   "name": "python",
   "nbconvert_exporter": "python",
   "pygments_lexer": "ipython3",
   "version": "3.10.9"
  }
 },
 "nbformat": 4,
 "nbformat_minor": 5
}
