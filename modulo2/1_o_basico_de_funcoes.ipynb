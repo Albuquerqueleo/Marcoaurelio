{
 "cells": [
  {
   "cell_type": "markdown",
   "id": "3d7f59f3-8915-4961-95b6-5b6903dc03c4",
   "metadata": {},
   "source": [
    "# Básico de funções\n",
    "## Funções sem argumento"
   ]
  },
  {
   "cell_type": "code",
   "execution_count": 1,
   "id": "83693343-9df8-4831-b5c2-af4f7568dba0",
   "metadata": {},
   "outputs": [],
   "source": [
    "def inicio_da_aula():\n",
    "    print('A aula começou!')"
   ]
  },
  {
   "cell_type": "code",
   "execution_count": 4,
   "id": "2f5394e0-e946-45ea-85eb-2db028fc1fb5",
   "metadata": {},
   "outputs": [
    {
     "data": {
      "text/plain": [
       "<function __main__.inicio_da_aula()>"
      ]
     },
     "execution_count": 4,
     "metadata": {},
     "output_type": "execute_result"
    }
   ],
   "source": [
    "inicio_da_aula"
   ]
  },
  {
   "cell_type": "markdown",
   "id": "2c110c9e-c8e6-47d9-b96b-4ca01760ec18",
   "metadata": {},
   "source": [
    "Ops, o que aconteceu?\n",
    "\n",
    "Notem que a função não foi executada e apenas seu nome e localização foi exibido. O que aconteceu foi que, como uma função é um \"objeto de primeira classe\", ao nos referirmos apenas ao nome de uma função sem que haja uma solicitação da execução da mesma, o que é feito com o uso dos parênteses, apenas invocamos a referência da função."
   ]
  },
  {
   "cell_type": "code",
   "execution_count": 5,
   "id": "7710bad9-e034-4354-96f9-aa4972b43bb1",
   "metadata": {},
   "outputs": [
    {
     "name": "stdout",
     "output_type": "stream",
     "text": [
      "A aula começou!\n"
     ]
    }
   ],
   "source": [
    "inicio_da_aula()"
   ]
  },
  {
   "cell_type": "markdown",
   "id": "bf7e6b3a-2511-46e7-a278-b48e84ad2a2a",
   "metadata": {},
   "source": [
    "Agora sim a função rodou! Legal!!!!\n",
    "\n",
    "## Função com argumento"
   ]
  },
  {
   "cell_type": "code",
   "execution_count": 13,
   "id": "711a9535-c1ad-406d-a0ef-0d22dd711d8c",
   "metadata": {},
   "outputs": [],
   "source": [
    "def hora_inicio_aula (hora):\n",
    "    print('A hora do inicio da aula é: ', hora)"
   ]
  },
  {
   "cell_type": "markdown",
   "id": "a0d4b9fd-a6cd-48fb-8e41-3103bc5de023",
   "metadata": {},
   "source": [
    "Vamos brincar com essa função, utilizando diferentes tipos de dados em seu argumento `hora` e verificando a saída produzida:"
   ]
  },
  {
   "cell_type": "code",
   "execution_count": 15,
   "id": "fadc27e2-e29b-4e5e-9a36-20f42d837b6d",
   "metadata": {},
   "outputs": [
    {
     "name": "stdout",
     "output_type": "stream",
     "text": [
      "A hora do inicio da aula é:  14\n"
     ]
    }
   ],
   "source": [
    "hora_inicio_aula(14)"
   ]
  },
  {
   "cell_type": "code",
   "execution_count": 16,
   "id": "b3298459-2aaf-4c90-960a-4479185fbdf7",
   "metadata": {},
   "outputs": [
    {
     "name": "stdout",
     "output_type": "stream",
     "text": [
      "A hora do inicio da aula é:  14h\n"
     ]
    }
   ],
   "source": [
    "hora_inicio_aula ('14h')"
   ]
  },
  {
   "cell_type": "code",
   "execution_count": 19,
   "id": "308ba54c-7367-4373-94bf-a633d8008f52",
   "metadata": {},
   "outputs": [
    {
     "name": "stdout",
     "output_type": "stream",
     "text": [
      "A hora do inicio da aula é:  14.0\n"
     ]
    }
   ],
   "source": [
    "hora_inicio_aula (14.0)"
   ]
  },
  {
   "cell_type": "code",
   "execution_count": 20,
   "id": "c3bee2e3-27ae-4838-878e-f7be53f6e65e",
   "metadata": {},
   "outputs": [
    {
     "name": "stdout",
     "output_type": "stream",
     "text": [
      "A hora do inicio da aula é:  <built-in function print>\n"
     ]
    }
   ],
   "source": [
    "hora_inicio_aula (print)"
   ]
  },
  {
   "cell_type": "markdown",
   "id": "4efe61ce-a3a6-48f2-b624-c574c072d631",
   "metadata": {},
   "source": [
    "A função `hora_inicio_aula` simplesmente imprime o que é solicitado a ele com uma mensagem. Note que mesmo quando utilizamos o nome de uma outra função como argumento, o valor correspondente é impresso.\n",
    "\n",
    "Agora vamos criar outra função parecida, mas que realiza alguma operação em seu interior."
   ]
  },
  {
   "cell_type": "code",
   "execution_count": 26,
   "id": "da6725bd-e4ae-4011-9845-c89f674433c4",
   "metadata": {},
   "outputs": [],
   "source": [
    "def quadrado(x):\n",
    "    resultado = x**2\n",
    "    print(\"O quadrado de \", x, \" é \", resultado, \". \", sep=\"\")"
   ]
  },
  {
   "cell_type": "code",
   "execution_count": 27,
   "id": "b99358e4-7b61-4701-9dc4-982a270cb470",
   "metadata": {},
   "outputs": [
    {
     "name": "stdout",
     "output_type": "stream",
     "text": [
      "O quadrado de 2 é 4. \n"
     ]
    }
   ],
   "source": [
    "quadrado(2)"
   ]
  },
  {
   "cell_type": "markdown",
   "id": "d73109c8-5706-43ed-9f77-92c06efa9d2e",
   "metadata": {},
   "source": [
    "## Funções com retorno\n",
    "\n",
    "A função `quadrado()`, na forma que foi definida, não apresenta nenhum retorno. Digamos que você queira o utilizar o cálculo que ela realiza em outro contexto, sem chamá-la. Neste caso a função não terá nenhuma utilidade pois, como mostramos no código abaixo, o retorno dela será simplesmente o valor `None`."
   ]
  },
  {
   "cell_type": "code",
   "execution_count": 28,
   "id": "ccad8a38-fb20-41ad-83ba-71cfd839c833",
   "metadata": {},
   "outputs": [
    {
     "name": "stdout",
     "output_type": "stream",
     "text": [
      "O quadrado de 2 é 4. \n",
      "o resultado de 'quadrado(2)' foi armazenado em y e é igual a 'None'.\n"
     ]
    }
   ],
   "source": [
    "x = 2\n",
    "y = quadrado(x)\n",
    "print(\"o resultado de 'quadrado(2)' foi armazenado em y e é igual a '\", y, \"'.\",sep='')"
   ]
  },
  {
   "cell_type": "markdown",
   "id": "b48b4166-1273-49da-ba3b-566485bbb133",
   "metadata": {},
   "source": [
    "Vamos agora reescrever a função `quadrado()` de forma que a instrução `y = quadrado(2)` armazene o retorno esperado, o valor `4`, na variável `y`. Isso pode ser obtido com a palavra-chave `return`, como mostrado abaixo."
   ]
  },
  {
   "cell_type": "code",
   "execution_count": 24,
   "id": "8b50ee81-20c3-44d2-b505-2de2d94605d1",
   "metadata": {},
   "outputs": [
    {
     "name": "stdout",
     "output_type": "stream",
     "text": [
      "O resultado de 'quadrado(2)' foi armazenado em y e é igual a 4.\n"
     ]
    }
   ],
   "source": [
    "def quadrado(x):\n",
    "    return x**2\n",
    "\n",
    "y = quadrado(2)\n",
    "print(\"O resultado de 'quadrado(2)' foi armazenado em y e é igual a \", y, \".\",sep='')"
   ]
  },
  {
   "cell_type": "markdown",
   "id": "c3cc0b21-c084-4c0b-b63a-f9538c7be50a",
   "metadata": {},
   "source": [
    "Uma última questão que vale a pena ser discutida neste ponto é o uso de mais de um argumento em uma função. \n",
    "Imagine que você queira criar uma função que concatene duas variáveis do tipo `string` e retorne um único string concatenado, como indicado abaixo:"
   ]
  },
  {
   "cell_type": "code",
   "execution_count": 29,
   "id": "ccf9bf32-e965-4e29-9a66-ae6247001129",
   "metadata": {},
   "outputs": [],
   "source": [
    "def concatena(a,b):\n",
    "    print(a+b)"
   ]
  },
  {
   "cell_type": "code",
   "execution_count": 34,
   "id": "b75863c0-ee0d-46ed-b7a4-282aa715b16f",
   "metadata": {},
   "outputs": [
    {
     "name": "stdout",
     "output_type": "stream",
     "text": [
      "joaomaria\n"
     ]
    }
   ],
   "source": [
    "concatena('joao','maria')"
   ]
  },
  {
   "cell_type": "markdown",
   "id": "7038bd74-41f1-4e22-bec2-4a4aeb33456b",
   "metadata": {},
   "source": [
    "Note que a função fez a concatenação das strings, como esperado, mas é importante ressaltar que, de forma alguma, essa função irá exigir que o tipos dos dados solicitados sejam do tipo string, visto que o python nunca força um tipo de dados, por padrão. Veja a função abaixo:"
   ]
  },
  {
   "cell_type": "code",
   "execution_count": 35,
   "id": "65131e70-a495-4a18-bdb1-aded7641e330",
   "metadata": {},
   "outputs": [
    {
     "name": "stdout",
     "output_type": "stream",
     "text": [
      "3\n"
     ]
    }
   ],
   "source": [
    "concatena(1,2)"
   ]
  },
  {
   "cell_type": "code",
   "execution_count": 36,
   "id": "818a8ab1-c796-4424-95d1-dac8aded5455",
   "metadata": {},
   "outputs": [
    {
     "name": "stdout",
     "output_type": "stream",
     "text": [
      "3.0\n"
     ]
    }
   ],
   "source": [
    "concatena(1,2.0)"
   ]
  },
  {
   "cell_type": "code",
   "execution_count": 37,
   "id": "5e9295b9-e3c5-408d-b275-a7589a88e9af",
   "metadata": {},
   "outputs": [
    {
     "ename": "TypeError",
     "evalue": "can only concatenate str (not \"int\") to str",
     "output_type": "error",
     "traceback": [
      "\u001b[0;31m---------------------------------------------------------------------------\u001b[0m",
      "\u001b[0;31mTypeError\u001b[0m                                 Traceback (most recent call last)",
      "Input \u001b[0;32mIn [37]\u001b[0m, in \u001b[0;36m<cell line: 1>\u001b[0;34m()\u001b[0m\n\u001b[0;32m----> 1\u001b[0m \u001b[43mconcatena\u001b[49m\u001b[43m(\u001b[49m\u001b[38;5;124;43m'\u001b[39;49m\u001b[38;5;124;43mjoao\u001b[39;49m\u001b[38;5;124;43m'\u001b[39;49m\u001b[43m,\u001b[49m\u001b[43m \u001b[49m\u001b[38;5;241;43m1\u001b[39;49m\u001b[43m)\u001b[49m\n",
      "Input \u001b[0;32mIn [29]\u001b[0m, in \u001b[0;36mconcatena\u001b[0;34m(a, b)\u001b[0m\n\u001b[1;32m      1\u001b[0m \u001b[38;5;28;01mdef\u001b[39;00m \u001b[38;5;21mconcatena\u001b[39m(a,b):\n\u001b[0;32m----> 2\u001b[0m     \u001b[38;5;28mprint\u001b[39m(\u001b[43ma\u001b[49m\u001b[38;5;241;43m+\u001b[39;49m\u001b[43mb\u001b[49m)\n",
      "\u001b[0;31mTypeError\u001b[0m: can only concatenate str (not \"int\") to str"
     ]
    }
   ],
   "source": [
    "concatena('joao', 1)"
   ]
  },
  {
   "cell_type": "markdown",
   "id": "32d11dbc-2ead-44a6-8ad8-adc3cf1778f9",
   "metadata": {},
   "source": [
    "Neste último caso, a operação `print('joao'+1)`, executada pela instrução `concatena('joao',1)`, cria uma mensagem de erro."
   ]
  },
  {
   "cell_type": "code",
   "execution_count": null,
   "id": "189f0686-3132-4634-a12e-1da7a601556a",
   "metadata": {},
   "outputs": [],
   "source": []
  },
  {
   "cell_type": "code",
   "execution_count": 11,
   "id": "1f107b09-9f7a-466d-a87d-36d84c72333d",
   "metadata": {},
   "outputs": [
    {
     "name": "stdout",
     "output_type": "stream",
     "text": [
      "1\n",
      "2\n",
      "3\n",
      "4\n"
     ]
    }
   ],
   "source": [
    "# Recursão com o `for` básico\n",
    "for i in 1,2,3,4:\n",
    "    print(i)"
   ]
  },
  {
   "cell_type": "code",
   "execution_count": 8,
   "id": "40192957-6005-45bd-bb63-9f92b5143755",
   "metadata": {},
   "outputs": [
    {
     "name": "stdout",
     "output_type": "stream",
     "text": [
      "1\n",
      "2\n",
      "3\n",
      "10\n",
      "0\n",
      "-1\n",
      "texto\n",
      "3.14159\n"
     ]
    }
   ],
   "source": [
    "for i in 1,2,3,10, 0, -1, \"texto\", 3.14159:\n",
    "    print(i)"
   ]
  },
  {
   "cell_type": "code",
   "execution_count": 13,
   "id": "cb1c8f48-1869-4ca4-9747-9bd62474820b",
   "metadata": {},
   "outputs": [
    {
     "name": "stdout",
     "output_type": "stream",
     "text": [
      "número i =  0\n",
      "número i =  1\n",
      "número i =  2\n",
      "número i =  3\n"
     ]
    }
   ],
   "source": [
    "# contagem com for, usar range\n",
    "for i in range(4):\n",
    "    print(\"número i = \", i)"
   ]
  },
  {
   "cell_type": "code",
   "execution_count": 2,
   "id": "c9dc3d0d-f08c-415d-a340-c3ba1d34de92",
   "metadata": {},
   "outputs": [],
   "source": [
    "# Aplicando em para gerar um quadrado\n",
    "ninja.reset()\n",
    "for i in range(4):\n",
    "    ninja.forward(100)\n",
    "    ninja.left(90)\n",
    "    \n",
    "    "
   ]
  },
  {
   "cell_type": "code",
   "execution_count": 19,
   "id": "e94a1a03-01a6-46ed-8271-b5e55f361dde",
   "metadata": {},
   "outputs": [],
   "source": [
    "# Aplicando em para gerar um hexagono\n",
    "ninja.reset()\n",
    "for i in range(6):\n",
    "    ninja.forward(100)\n",
    "    ninja.left(360/6)\n"
   ]
  },
  {
   "cell_type": "code",
   "execution_count": 3,
   "id": "bb91fcd9-b2b8-4af7-85e7-ec195713fdd9",
   "metadata": {},
   "outputs": [],
   "source": [
    "# Aplicando em para gerar um hexagono\n",
    "ninja.reset()\n",
    "lados = 50\n",
    "for i in range(lados):\n",
    "    ninja.forward(5)\n",
    "    ninja.left(360/lados)\n"
   ]
  },
  {
   "cell_type": "code",
   "execution_count": null,
   "id": "de2250c5-faca-4eef-8d2d-02378f835fde",
   "metadata": {},
   "outputs": [],
   "source": []
  }
 ],
 "metadata": {
  "kernelspec": {
   "display_name": "Python 3 (ipykernel)",
   "language": "python",
   "name": "python3"
  },
  "language_info": {
   "codemirror_mode": {
    "name": "ipython",
    "version": 3
   },
   "file_extension": ".py",
   "mimetype": "text/x-python",
   "name": "python",
   "nbconvert_exporter": "python",
   "pygments_lexer": "ipython3",
   "version": "3.10.9"
  }
 },
 "nbformat": 4,
 "nbformat_minor": 5
}
