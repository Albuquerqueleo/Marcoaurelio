{
 "cells": [
  {
   "cell_type": "markdown",
   "id": "8616bc66-9a0e-4103-a806-b08507313360",
   "metadata": {},
   "source": [
    "## Condicionais"
   ]
  },
  {
   "cell_type": "markdown",
   "id": "b8f59eef-18b8-4838-a924-c5d9fad32029",
   "metadata": {},
   "source": [
    "Variáveis booleanas são variáveis que armazenam valores lógicos verdadeiro (True) ou falso (False)."
   ]
  },
  {
   "cell_type": "code",
   "execution_count": 3,
   "id": "371a9391-81c3-4454-ada1-43b6e0289406",
   "metadata": {},
   "outputs": [],
   "source": [
    "x = True"
   ]
  },
  {
   "cell_type": "code",
   "execution_count": 4,
   "id": "53cc3509-63a0-4abc-9b61-a76e0dcf13d2",
   "metadata": {},
   "outputs": [
    {
     "data": {
      "text/plain": [
       "bool"
      ]
     },
     "execution_count": 4,
     "metadata": {},
     "output_type": "execute_result"
    }
   ],
   "source": [
    "type(x)"
   ]
  },
  {
   "cell_type": "code",
   "execution_count": 6,
   "id": "7ad003ac-7f32-4ebd-9e1f-2841fa26be40",
   "metadata": {},
   "outputs": [
    {
     "data": {
      "text/plain": [
       "bool"
      ]
     },
     "execution_count": 6,
     "metadata": {},
     "output_type": "execute_result"
    }
   ],
   "source": [
    "type(False)"
   ]
  },
  {
   "cell_type": "markdown",
   "id": "00da4db3-decf-48c8-be4f-d0e8606341bc",
   "metadata": {},
   "source": [
    "Vamos definir uma variável `idade` que armazena a idade de uma pessoa e vamos fazer algumas comparações simples. "
   ]
  },
  {
   "cell_type": "code",
   "execution_count": 1,
   "id": "cd9b2a01-4203-4459-8429-fc77d8c6e6bf",
   "metadata": {},
   "outputs": [
    {
     "name": "stdin",
     "output_type": "stream",
     "text": [
      "Entre com uma idade: 42\n"
     ]
    }
   ],
   "source": [
    "idade = input(\"Entre com uma idade:\")\n",
    "idade = int(idade)"
   ]
  },
  {
   "cell_type": "markdown",
   "id": "664de7b8-4f16-44f4-85b1-e15db37dd71f",
   "metadata": {},
   "source": [
    "Vamos agora utilizar alguns operadores lógicos para descobrir se a pessoa se encaixa em algumas categorias de idade."
   ]
  },
  {
   "cell_type": "code",
   "execution_count": 2,
   "id": "c4fd0c37-0c75-437c-81df-71f81c6f00f7",
   "metadata": {},
   "outputs": [],
   "source": [
    "bebe = idade < 3"
   ]
  },
  {
   "cell_type": "code",
   "execution_count": 3,
   "id": "bffb10a5-2be0-4edd-9766-8367bdb08c86",
   "metadata": {},
   "outputs": [],
   "source": [
    "adolescente = idade >= 12"
   ]
  },
  {
   "cell_type": "code",
   "execution_count": 6,
   "id": "26739b86-6fb1-4430-8583-5c7564d44099",
   "metadata": {},
   "outputs": [],
   "source": [
    "adulto = idade >= 18"
   ]
  },
  {
   "cell_type": "code",
   "execution_count": 5,
   "id": "2652385c-599a-4fa6-9f2c-7084c5511a3e",
   "metadata": {},
   "outputs": [],
   "source": [
    "menor = idade < 18"
   ]
  },
  {
   "cell_type": "code",
   "execution_count": null,
   "id": "6639ce80-dcc6-4084-a142-f7659a278487",
   "metadata": {},
   "outputs": [],
   "source": [
    "idoso = idade > 45"
   ]
  },
  {
   "cell_type": "code",
   "execution_count": 9,
   "id": "f398c3d3-74e1-4e4d-9ca8-d326737955ed",
   "metadata": {},
   "outputs": [
    {
     "data": {
      "text/plain": [
       "True"
      ]
     },
     "execution_count": 9,
     "metadata": {},
     "output_type": "execute_result"
    }
   ],
   "source": [
    "idade < 100"
   ]
  },
  {
   "cell_type": "code",
   "execution_count": 15,
   "id": "2028a239-e20f-48ae-94f4-f61d33be6ed0",
   "metadata": {},
   "outputs": [
    {
     "data": {
      "text/plain": [
       "False"
      ]
     },
     "execution_count": 15,
     "metadata": {},
     "output_type": "execute_result"
    }
   ],
   "source": [
    "idade < 30"
   ]
  },
  {
   "cell_type": "code",
   "execution_count": 16,
   "id": "85567d1d-2892-4e2a-bb59-7c903fc27f55",
   "metadata": {},
   "outputs": [
    {
     "data": {
      "text/plain": [
       "False"
      ]
     },
     "execution_count": 16,
     "metadata": {},
     "output_type": "execute_result"
    }
   ],
   "source": [
    "idade == 43"
   ]
  },
  {
   "cell_type": "code",
   "execution_count": 17,
   "id": "9e5e11b0-602f-491a-9b22-eb58849d4192",
   "metadata": {},
   "outputs": [
    {
     "data": {
      "text/plain": [
       "True"
      ]
     },
     "execution_count": 17,
     "metadata": {},
     "output_type": "execute_result"
    }
   ],
   "source": [
    "idade == 42"
   ]
  },
  {
   "cell_type": "code",
   "execution_count": 27,
   "id": "ff55e6ee-eab6-40cd-a2c4-1cf09992c6ba",
   "metadata": {},
   "outputs": [
    {
     "data": {
      "text/plain": [
       "True"
      ]
     },
     "execution_count": 27,
     "metadata": {},
     "output_type": "execute_result"
    }
   ],
   "source": [
    "idade != 43"
   ]
  },
  {
   "cell_type": "code",
   "execution_count": 28,
   "id": "5b9ea89f-1277-4fc2-9382-4c7384de6faf",
   "metadata": {},
   "outputs": [
    {
     "data": {
      "text/plain": [
       "False"
      ]
     },
     "execution_count": 28,
     "metadata": {},
     "output_type": "execute_result"
    }
   ],
   "source": [
    "idade != 42"
   ]
  },
  {
   "cell_type": "code",
   "execution_count": null,
   "id": "0efc45a6-7daa-4246-8d00-af31eac3db8c",
   "metadata": {},
   "outputs": [],
   "source": []
  },
  {
   "cell_type": "code",
   "execution_count": null,
   "id": "7841624c-afe0-40a7-835e-bb937affe549",
   "metadata": {},
   "outputs": [],
   "source": []
  },
  {
   "cell_type": "code",
   "execution_count": null,
   "id": "188ac0a3-2c16-4744-83f3-f874cea06517",
   "metadata": {},
   "outputs": [],
   "source": []
  },
  {
   "cell_type": "code",
   "execution_count": null,
   "id": "b60f8ef8-8565-48e0-a16b-c259aa190244",
   "metadata": {},
   "outputs": [],
   "source": []
  },
  {
   "cell_type": "markdown",
   "id": "2f326033-82e2-4dd2-84d6-f254cf96db78",
   "metadata": {},
   "source": [
    "Um caso mais complicado, um número é impar?"
   ]
  },
  {
   "cell_type": "code",
   "execution_count": 19,
   "id": "5a725372-f132-4e6a-8675-ddcf02a1e4b0",
   "metadata": {},
   "outputs": [
    {
     "data": {
      "text/plain": [
       "True"
      ]
     },
     "execution_count": 19,
     "metadata": {},
     "output_type": "execute_result"
    }
   ],
   "source": [
    "i = 19\n",
    "\n",
    "i%2 == 1   # o número i é ímpar?"
   ]
  },
  {
   "cell_type": "code",
   "execution_count": 21,
   "id": "9699882c-f297-404b-936d-53ef399d2676",
   "metadata": {
    "collapsed": true,
    "jupyter": {
     "outputs_hidden": true
    },
    "tags": []
   },
   "outputs": [
    {
     "name": "stdout",
     "output_type": "stream",
     "text": [
      "0 < 7  True\n",
      "1 < 7  True\n",
      "2 < 7  True\n",
      "3 < 7  True\n",
      "4 < 7  True\n",
      "5 < 7  True\n",
      "6 < 7  True\n",
      "7 < 7  False\n",
      "8 < 7  False\n",
      "9 < 7  False\n",
      "10 < 7  False\n",
      "11 < 7  False\n",
      "12 < 7  False\n",
      "13 < 7  False\n",
      "14 < 7  False\n",
      "15 < 7  False\n",
      "16 < 7  False\n",
      "17 < 7  False\n",
      "18 < 7  False\n",
      "19 < 7  False\n",
      "20 < 7  False\n",
      "21 < 7  False\n",
      "22 < 7  False\n",
      "23 < 7  False\n",
      "24 < 7  False\n",
      "25 < 7  False\n",
      "26 < 7  False\n",
      "27 < 7  False\n",
      "28 < 7  False\n",
      "29 < 7  False\n"
     ]
    }
   ],
   "source": [
    "for i in range(30):\n",
    "    print(i, \"< 7 \", i < 7 )"
   ]
  },
  {
   "cell_type": "markdown",
   "id": "19b9dc43-1f0b-4367-9245-61e4e9f74daf",
   "metadata": {},
   "source": [
    "Condicionais"
   ]
  },
  {
   "cell_type": "code",
   "execution_count": 34,
   "id": "3d065f25-2f52-400a-9ec0-1baebdd28579",
   "metadata": {},
   "outputs": [
    {
     "name": "stdout",
     "output_type": "stream",
     "text": [
      "n > 10\n"
     ]
    }
   ],
   "source": [
    "n = 12\n",
    "\n",
    "if n > 10:\n",
    "    print('n > 10')\n",
    "else:\n",
    "    print('n < = 10')\n",
    "\n"
   ]
  },
  {
   "cell_type": "code",
   "execution_count": 49,
   "id": "ab97c56f-3f05-40c1-b4b8-f9ddf6d3a9c2",
   "metadata": {},
   "outputs": [],
   "source": [
    "def impar(numero):\n",
    "    return numero%2==1"
   ]
  },
  {
   "cell_type": "code",
   "execution_count": 50,
   "id": "674b220b-7835-4f13-8a27-2f7f8dd46ea3",
   "metadata": {},
   "outputs": [
    {
     "data": {
      "text/plain": [
       "True"
      ]
     },
     "execution_count": 50,
     "metadata": {},
     "output_type": "execute_result"
    }
   ],
   "source": [
    "impar(3)"
   ]
  },
  {
   "cell_type": "code",
   "execution_count": 52,
   "id": "4f77437b-1785-45b4-83d2-3ccac0e1f6c3",
   "metadata": {},
   "outputs": [
    {
     "name": "stdout",
     "output_type": "stream",
     "text": [
      "o número é par!\n"
     ]
    }
   ],
   "source": [
    "n = 4\n",
    "if impar(n):\n",
    "    print('o número é ímpar!')\n",
    "else:\n",
    "    print('o número é par!')\n"
   ]
  },
  {
   "cell_type": "markdown",
   "id": "e3d9cf5b-90f0-47e1-ae4a-4614b285ad76",
   "metadata": {},
   "source": [
    "Agora é sua vez: crie um código que peça a idade do usuário com a função `input()` e verifique se a idade é maior que 65. Se for maior imprima \"Idoso\", senão, imprima \"Jovem\"."
   ]
  },
  {
   "cell_type": "code",
   "execution_count": null,
   "id": "9c0c9a9b-1712-46f0-bc7a-943cbececfcc",
   "metadata": {},
   "outputs": [],
   "source": []
  }
 ],
 "metadata": {
  "kernelspec": {
   "display_name": "Python 3 (ipykernel)",
   "language": "python",
   "name": "python3"
  },
  "language_info": {
   "codemirror_mode": {
    "name": "ipython",
    "version": 3
   },
   "file_extension": ".py",
   "mimetype": "text/x-python",
   "name": "python",
   "nbconvert_exporter": "python",
   "pygments_lexer": "ipython3",
   "version": "3.10.9"
  }
 },
 "nbformat": 4,
 "nbformat_minor": 5
}
