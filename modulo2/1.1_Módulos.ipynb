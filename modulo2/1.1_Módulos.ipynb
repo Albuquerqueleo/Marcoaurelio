{
 "cells": [
  {
   "cell_type": "markdown",
   "id": "2468596f-c6ce-492c-b4ff-e4ac36c3f052",
   "metadata": {},
   "source": [
    "## Módulos"
   ]
  },
  {
   "cell_type": "code",
   "execution_count": 1,
   "id": "bc0545a7-8747-48fe-a649-928a7ce8013c",
   "metadata": {},
   "outputs": [],
   "source": [
    "import math"
   ]
  },
  {
   "cell_type": "code",
   "execution_count": 4,
   "id": "cb9ed84f-c6fb-4ab2-92cd-28ce1bb24f56",
   "metadata": {},
   "outputs": [
    {
     "data": {
      "text/plain": [
       "3.141592653589793"
      ]
     },
     "execution_count": 4,
     "metadata": {},
     "output_type": "execute_result"
    }
   ],
   "source": [
    "# Acessando uma constante\n",
    "math.pi"
   ]
  },
  {
   "cell_type": "code",
   "execution_count": 12,
   "id": "ad19337b-6ed1-4a29-b1dc-cd6917c36066",
   "metadata": {},
   "outputs": [
    {
     "data": {
      "text/plain": [
       "0.49999999999999994"
      ]
     },
     "execution_count": 12,
     "metadata": {},
     "output_type": "execute_result"
    }
   ],
   "source": [
    "# acessando uma função\n",
    "radianos = math.radians(30)\n",
    "math.sin(radianos)"
   ]
  },
  {
   "cell_type": "code",
   "execution_count": 2,
   "id": "0df6ba84-88e1-433a-a024-9de09f7b4c3a",
   "metadata": {},
   "outputs": [],
   "source": [
    "import turtle\n",
    "ninja = turtle.Turtle()"
   ]
  },
  {
   "cell_type": "code",
   "execution_count": 3,
   "id": "a9aa6fd2-d1c6-4fc8-8891-ba4591205748",
   "metadata": {},
   "outputs": [
    {
     "data": {
      "text/plain": [
       "<turtle.Turtle at 0x7f76f17ed270>"
      ]
     },
     "execution_count": 3,
     "metadata": {},
     "output_type": "execute_result"
    }
   ],
   "source": [
    "ninja"
   ]
  },
  {
   "cell_type": "code",
   "execution_count": 4,
   "id": "b8c483db-7ab4-403e-b895-229163a44e74",
   "metadata": {},
   "outputs": [
    {
     "data": {
      "text/plain": [
       "turtle.Turtle"
      ]
     },
     "execution_count": 4,
     "metadata": {},
     "output_type": "execute_result"
    }
   ],
   "source": [
    "type(ninja)"
   ]
  },
  {
   "cell_type": "markdown",
   "id": "e7119db4-bd56-4880-aca8-98c0ae54088b",
   "metadata": {},
   "source": [
    "Comparando com um objeto tipo `string`"
   ]
  },
  {
   "cell_type": "code",
   "execution_count": 5,
   "id": "f0514a30-26f2-424a-8a72-8ea81307ebb9",
   "metadata": {},
   "outputs": [],
   "source": [
    "texto = str('blablabla')"
   ]
  },
  {
   "cell_type": "code",
   "execution_count": 6,
   "id": "f28a217a-1f28-4334-b2e1-b50834f5c671",
   "metadata": {},
   "outputs": [
    {
     "data": {
      "text/plain": [
       "'blablabla'"
      ]
     },
     "execution_count": 6,
     "metadata": {},
     "output_type": "execute_result"
    }
   ],
   "source": [
    "texto"
   ]
  },
  {
   "cell_type": "code",
   "execution_count": 7,
   "id": "e0faff5c-f73d-4598-937e-3df984116761",
   "metadata": {},
   "outputs": [
    {
     "data": {
      "text/plain": [
       "str"
      ]
     },
     "execution_count": 7,
     "metadata": {},
     "output_type": "execute_result"
    }
   ],
   "source": [
    "type(texto)"
   ]
  },
  {
   "cell_type": "code",
   "execution_count": null,
   "id": "8c83c300-231f-4f6a-9820-388a57a25236",
   "metadata": {},
   "outputs": [],
   "source": []
  },
  {
   "cell_type": "code",
   "execution_count": 1,
   "id": "d9e60b61-f93e-416f-9de3-af75d9049212",
   "metadata": {},
   "outputs": [],
   "source": [
    "import turtle\n",
    "ninja = turtle.Turtle()"
   ]
  },
  {
   "cell_type": "code",
   "execution_count": 2,
   "id": "a5f49fae-ab0c-4109-9c81-97d48dabfd88",
   "metadata": {},
   "outputs": [],
   "source": [
    "# teste\n",
    "ninja.forward(100)\n",
    "ninja.left(90)\n",
    "ninja.forward(100)"
   ]
  },
  {
   "cell_type": "code",
   "execution_count": 3,
   "id": "650ea4d4-d222-4ec7-9d3e-03175ff2b6d7",
   "metadata": {},
   "outputs": [],
   "source": [
    "# Fazer um quadrado\n",
    "ninja.reset()\n",
    "ninja.forward(100)\n",
    "ninja.left(90)\n",
    "ninja.forward(100)\n",
    "ninja.left(90)\n",
    "ninja.forward(100)\n",
    "ninja.left(90)\n",
    "ninja.forward(100)\n",
    "ninja.left(90)"
   ]
  }
 ],
 "metadata": {
  "kernelspec": {
   "display_name": "Python 3 (ipykernel)",
   "language": "python",
   "name": "python3"
  },
  "language_info": {
   "codemirror_mode": {
    "name": "ipython",
    "version": 3
   },
   "file_extension": ".py",
   "mimetype": "text/x-python",
   "name": "python",
   "nbconvert_exporter": "python",
   "pygments_lexer": "ipython3",
   "version": "3.10.9"
  }
 },
 "nbformat": 4,
 "nbformat_minor": 5
}
