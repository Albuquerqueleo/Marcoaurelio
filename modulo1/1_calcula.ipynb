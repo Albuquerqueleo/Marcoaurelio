{
 "cells": [
  {
   "cell_type": "markdown",
   "id": "8843b13f-3ef8-4eb0-8608-788b5f6719da",
   "metadata": {},
   "source": [
    "## Olá, seja bem vindo ao curso de Python do Marco!\n",
    "\n",
    "![qualquer frase para as vezes aparecer no 'caption'](./python-logo.png)"
   ]
  },
  {
   "cell_type": "code",
   "execution_count": 1,
   "id": "0db014ce-631e-4a48-be76-70e7173e9522",
   "metadata": {},
   "outputs": [
    {
     "name": "stdin",
     "output_type": "stream",
     "text": [
      "\n",
      "Este programa realiza uma operação entre dois números.\n",
      "Digite a operação que você deseja realizar:\n",
      "+ para adição\n",
      "- para subtração\n",
      "* para multiplicação\n",
      "/ para divisão\n",
      " *\n"
     ]
    }
   ],
   "source": [
    "operacao = input(\"\"\"\n",
    "Este programa realiza uma operação entre dois números.\n",
    "Digite a operação que você deseja realizar:\n",
    "+ para adição\n",
    "- para subtração\n",
    "* para multiplicação\n",
    "/ para divisão\n",
    "\"\"\")"
   ]
  },
  {
   "cell_type": "code",
   "execution_count": 2,
   "id": "60d0def6-5c5e-4153-862c-e9e4d90213b6",
   "metadata": {},
   "outputs": [],
   "source": [
    "# print(operacao)\n",
    "if operacao not in \"+-*/\":\n",
    "    print(f\"Operação '{operacao}' inválida\")\n",
    "    exit()"
   ]
  },
  {
   "cell_type": "code",
   "execution_count": 3,
   "id": "6465b8be-1b43-4d5b-9af1-4f9cf02a34a9",
   "metadata": {},
   "outputs": [
    {
     "name": "stdin",
     "output_type": "stream",
     "text": [
      "Entre com o primeiro número:  1\n"
     ]
    }
   ],
   "source": [
    "a = int(input('Entre com o primeiro número: '))"
   ]
  },
  {
   "cell_type": "code",
   "execution_count": 4,
   "id": "f7fcc788-303a-4cb8-97f5-41d6606ac2a4",
   "metadata": {},
   "outputs": [
    {
     "name": "stdin",
     "output_type": "stream",
     "text": [
      "Entre com o segundo número:  2\n"
     ]
    }
   ],
   "source": [
    "b = int(input('Entre com o segundo número: '))"
   ]
  },
  {
   "cell_type": "code",
   "execution_count": 5,
   "id": "d0955811-4d8d-4e6e-aaf4-04d4fdb0b5ea",
   "metadata": {},
   "outputs": [],
   "source": [
    "if operacao == '+':\n",
    "    resultado = a + b\n",
    "elif operacao == '-':\n",
    "    resultado = a - b\n",
    "elif operacao == '*':\n",
    "    resultado = a * b\n",
    "elif operacao == '/':\n",
    "    resultado = a / b"
   ]
  },
  {
   "cell_type": "code",
   "execution_count": 6,
   "id": "bec1e42a-524b-4505-99bc-d6307cd70d20",
   "metadata": {},
   "outputs": [
    {
     "name": "stdout",
     "output_type": "stream",
     "text": [
      "Este é o resultado da operação solicitada:\n",
      "1 + 2 = 3\n"
     ]
    }
   ],
   "source": [
    "print('Este é o resultado da operação solicitada:')\n",
    "print(f'{a} {operacao} {b} = {resultado}')"
   ]
  }
 ],
 "metadata": {
  "kernelspec": {
   "display_name": "Python 3 (ipykernel)",
   "language": "python",
   "name": "python3"
  },
  "language_info": {
   "codemirror_mode": {
    "name": "ipython",
    "version": 3
   },
   "file_extension": ".py",
   "mimetype": "text/x-python",
   "name": "python",
   "nbconvert_exporter": "python",
   "pygments_lexer": "ipython3",
   "version": "3.10.9"
  }
 },
 "nbformat": 4,
 "nbformat_minor": 5
}
