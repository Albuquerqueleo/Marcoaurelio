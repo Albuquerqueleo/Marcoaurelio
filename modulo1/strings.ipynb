{
 "cells": [
  {
   "cell_type": "markdown",
   "id": "3d37ebd3-3dfb-49fe-93b7-139b922a79b7",
   "metadata": {},
   "source": [
    "# Complementações para os capítulos 1 e 2 do Allen\n",
    "\n",
    "Vou fazer diversas complementações abaixo. Cada tópico está indicado. "
   ]
  },
  {
   "cell_type": "markdown",
   "id": "64f019fc-4e55-4d89-98f8-40c73d877d32",
   "metadata": {},
   "source": [
    "# 1) Sobre Markdown.\n",
    "\n",
    "# Isto é um título.\n",
    "## Isto é um sub-título\n",
    "\n",
    "isto é um trecho de texto.\n",
    "\n",
    "**isto é um texto em negrito.**\n",
    "*isto é um texto em itálico.*"
   ]
  },
  {
   "cell_type": "markdown",
   "id": "217dede7-51ea-420b-9cbd-7ff8a96d242c",
   "metadata": {},
   "source": [
    "2) Sobre textos"
   ]
  },
  {
   "cell_type": "code",
   "execution_count": 1,
   "id": "dc8bd5ab-91a2-4246-af1b-a39b0eaa0ad4",
   "metadata": {},
   "outputs": [
    {
     "data": {
      "text/plain": [
       "'isto lblalblalb'"
      ]
     },
     "execution_count": 1,
     "metadata": {},
     "output_type": "execute_result"
    }
   ],
   "source": [
    "texto = \"isto lblalblalb\"\n",
    "texto"
   ]
  },
  {
   "cell_type": "code",
   "execution_count": 2,
   "id": "74dcac2d-128b-487c-9351-a65cdbd1f09a",
   "metadata": {},
   "outputs": [
    {
     "data": {
      "text/plain": [
       "str"
      ]
     },
     "execution_count": 2,
     "metadata": {},
     "output_type": "execute_result"
    }
   ],
   "source": [
    "type(texto)"
   ]
  },
  {
   "cell_type": "code",
   "execution_count": 3,
   "id": "c535c7e6-bbf6-4e34-a47f-e7b48965cf2b",
   "metadata": {},
   "outputs": [],
   "source": [
    "texto = \"agora é outro texto\""
   ]
  },
  {
   "cell_type": "code",
   "execution_count": 4,
   "id": "0cca7aad-fa93-45e3-acef-3e835ea5f696",
   "metadata": {},
   "outputs": [
    {
     "name": "stdout",
     "output_type": "stream",
     "text": [
      "agora é outro texto\n"
     ]
    }
   ],
   "source": [
    "print(texto)"
   ]
  },
  {
   "cell_type": "code",
   "execution_count": 5,
   "id": "1353eec2-e8f9-4f6c-a37b-532ce4490df4",
   "metadata": {},
   "outputs": [
    {
     "name": "stdin",
     "output_type": "stream",
     "text": [
      "entre com um numero 3.14\n"
     ]
    }
   ],
   "source": [
    "numero = input(\"entre com um numero\")"
   ]
  },
  {
   "cell_type": "code",
   "execution_count": 6,
   "id": "a2f258c1-7a23-4089-9ea5-74db7f515712",
   "metadata": {},
   "outputs": [
    {
     "data": {
      "text/plain": [
       "'3.14'"
      ]
     },
     "execution_count": 6,
     "metadata": {},
     "output_type": "execute_result"
    }
   ],
   "source": [
    "numero"
   ]
  },
  {
   "cell_type": "code",
   "execution_count": 31,
   "id": "8ace3a45-04c3-4863-94e9-da7a2c55dfc2",
   "metadata": {},
   "outputs": [
    {
     "data": {
      "text/plain": [
       "str"
      ]
     },
     "execution_count": 31,
     "metadata": {},
     "output_type": "execute_result"
    }
   ],
   "source": [
    "type(numero)"
   ]
  },
  {
   "cell_type": "markdown",
   "id": "9ac724f0-9193-4d7c-816a-7055ce943f33",
   "metadata": {},
   "source": [
    "Note que ao exibirmos o número colcoado no input ele aparece como string. Veja o tipo do dado retornado pela função embutida input(). O que deve ser feito é a conversão para o tipo de dado adequado."
   ]
  },
  {
   "cell_type": "code",
   "execution_count": 10,
   "id": "e4e1fd1c-f73b-4343-8ab7-99b84e662994",
   "metadata": {},
   "outputs": [
    {
     "data": {
      "text/plain": [
       "3.14"
      ]
     },
     "execution_count": 10,
     "metadata": {},
     "output_type": "execute_result"
    }
   ],
   "source": [
    "float(numero)"
   ]
  },
  {
   "cell_type": "code",
   "execution_count": 11,
   "id": "6c931845-dc9d-479b-a9f3-8c4dcb29d8e1",
   "metadata": {},
   "outputs": [
    {
     "data": {
      "text/plain": [
       "3.14"
      ]
     },
     "execution_count": 11,
     "metadata": {},
     "output_type": "execute_result"
    }
   ],
   "source": [
    "numero_float = float(numero)\n",
    "numero_float"
   ]
  },
  {
   "cell_type": "code",
   "execution_count": 12,
   "id": "395850d1-f260-491e-a7bf-8e2944754e99",
   "metadata": {},
   "outputs": [
    {
     "data": {
      "text/plain": [
       "float"
      ]
     },
     "execution_count": 12,
     "metadata": {},
     "output_type": "execute_result"
    }
   ],
   "source": [
    "type(numero_float)"
   ]
  },
  {
   "cell_type": "code",
   "execution_count": 13,
   "id": "61ec0807-9181-4f8a-ae2c-e6b0f705366f",
   "metadata": {},
   "outputs": [
    {
     "data": {
      "text/plain": [
       "'3.14'"
      ]
     },
     "execution_count": 13,
     "metadata": {},
     "output_type": "execute_result"
    }
   ],
   "source": [
    "str(numero_float)"
   ]
  },
  {
   "cell_type": "markdown",
   "id": "630e31cd-2bbe-4d44-af12-14c0ed97a31a",
   "metadata": {},
   "source": [
    "Perceba que o valor em float pode ser convertido para o formato de string com o uso da função embutida str()."
   ]
  },
  {
   "cell_type": "markdown",
   "id": "3b4d5096-12cc-4e69-b64b-7ada88762c4a",
   "metadata": {},
   "source": [
    "# Conversão automática de tipos"
   ]
  },
  {
   "cell_type": "code",
   "execution_count": 15,
   "id": "2e41a70d-30fe-4b02-a6d1-73cd8df1da73",
   "metadata": {},
   "outputs": [],
   "source": [
    "numero = 1*1.0"
   ]
  },
  {
   "cell_type": "code",
   "execution_count": 16,
   "id": "40d36471-adf9-499d-b094-0bcba24bdc51",
   "metadata": {},
   "outputs": [
    {
     "data": {
      "text/plain": [
       "float"
      ]
     },
     "execution_count": 16,
     "metadata": {},
     "output_type": "execute_result"
    }
   ],
   "source": [
    "type(numero)"
   ]
  },
  {
   "cell_type": "markdown",
   "id": "45723140-63b4-46c1-8ecb-8c170e571d24",
   "metadata": {},
   "source": [
    "Perceba que ao multiplicarmos um inteiro por um numero real (float) obtemos um float. Note que são tipos de dados diferentes."
   ]
  },
  {
   "cell_type": "code",
   "execution_count": 19,
   "id": "1168ae1c-d306-4f2b-918d-6dae94301b9c",
   "metadata": {},
   "outputs": [
    {
     "name": "stdout",
     "output_type": "stream",
     "text": [
      "<class 'int'>   <class 'float'>\n"
     ]
    }
   ],
   "source": [
    "print(type(1),' ',type(1.0))"
   ]
  },
  {
   "cell_type": "code",
   "execution_count": null,
   "id": "45af3284-4f0a-42c1-801c-166b62e48abb",
   "metadata": {},
   "outputs": [],
   "source": []
  },
  {
   "cell_type": "code",
   "execution_count": null,
   "id": "4a1cf657-c3b4-4633-99dd-c7455dee1b6c",
   "metadata": {},
   "outputs": [],
   "source": []
  },
  {
   "cell_type": "code",
   "execution_count": null,
   "id": "b25126c3-b6bb-4994-82b5-c0b05660a4de",
   "metadata": {},
   "outputs": [],
   "source": []
  },
  {
   "cell_type": "markdown",
   "id": "1be6587d-f234-4fe3-a61e-17ecadebf2ae",
   "metadata": {},
   "source": [
    "# Até aqui"
   ]
  },
  {
   "cell_type": "code",
   "execution_count": 38,
   "id": "40c00d04-77cb-43e5-9eac-d73154dc9391",
   "metadata": {},
   "outputs": [
    {
     "data": {
      "text/plain": [
       "'ivonaldovieira'"
      ]
     },
     "execution_count": 38,
     "metadata": {},
     "output_type": "execute_result"
    }
   ],
   "source": [
    "\"ivonaldo\" + \"vieira\""
   ]
  },
  {
   "cell_type": "code",
   "execution_count": 39,
   "id": "e646ab4a-f456-4604-937e-b5f04f2a7148",
   "metadata": {},
   "outputs": [],
   "source": [
    "bobagem = \"bla\""
   ]
  },
  {
   "cell_type": "code",
   "execution_count": 40,
   "id": "9a9aa371-d556-4de1-9172-eab2b2bbffc9",
   "metadata": {},
   "outputs": [
    {
     "data": {
      "text/plain": [
       "'blablablablablablablablablabla'"
      ]
     },
     "execution_count": 40,
     "metadata": {},
     "output_type": "execute_result"
    }
   ],
   "source": [
    "bobagem*10"
   ]
  },
  {
   "cell_type": "code",
   "execution_count": 42,
   "id": "126103bb-576e-46c5-bf07-84a36833895a",
   "metadata": {},
   "outputs": [
    {
     "data": {
      "text/plain": [
       "['', 'vonaldo v', 'e', 'ra']"
      ]
     },
     "execution_count": 42,
     "metadata": {},
     "output_type": "execute_result"
    }
   ],
   "source": [
    "\"ivonaldo vieira\".split('i')"
   ]
  },
  {
   "cell_type": "code",
   "execution_count": 44,
   "id": "275e5af3-9849-4850-92fa-822d8b5b354f",
   "metadata": {},
   "outputs": [
    {
     "data": {
      "text/plain": [
       "'ivonaldo vieira'"
      ]
     },
     "execution_count": 44,
     "metadata": {},
     "output_type": "execute_result"
    }
   ],
   "source": [
    "' '.join(['ivonaldo','vieira'])"
   ]
  },
  {
   "cell_type": "code",
   "execution_count": 45,
   "id": "633a22ab-a3ae-46a4-8f36-5b3e7802b8fd",
   "metadata": {},
   "outputs": [],
   "source": [
    "meutexto = 'bla'"
   ]
  },
  {
   "cell_type": "code",
   "execution_count": 46,
   "id": "1c82fb38-24bc-4d4d-a15e-4a102ae04cd9",
   "metadata": {},
   "outputs": [
    {
     "data": {
      "text/plain": [
       "'BLA'"
      ]
     },
     "execution_count": 46,
     "metadata": {},
     "output_type": "execute_result"
    }
   ],
   "source": [
    "meutexto.upper()"
   ]
  },
  {
   "cell_type": "code",
   "execution_count": null,
   "id": "d04bbf53-3e43-4f30-9379-1b61d00dbc99",
   "metadata": {},
   "outputs": [],
   "source": []
  }
 ],
 "metadata": {
  "kernelspec": {
   "display_name": "Python 3 (ipykernel)",
   "language": "python",
   "name": "python3"
  },
  "language_info": {
   "codemirror_mode": {
    "name": "ipython",
    "version": 3
   },
   "file_extension": ".py",
   "mimetype": "text/x-python",
   "name": "python",
   "nbconvert_exporter": "python",
   "pygments_lexer": "ipython3",
   "version": "3.10.9"
  }
 },
 "nbformat": 4,
 "nbformat_minor": 5
}
