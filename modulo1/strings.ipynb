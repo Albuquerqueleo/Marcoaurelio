{
 "cells": [
  {
   "cell_type": "markdown",
   "id": "64f019fc-4e55-4d89-98f8-40c73d877d32",
   "metadata": {},
   "source": [
    "# Isto é um titulo\n",
    "isto é um trecho de texto\n",
    "\n",
    "**isto é um texto em negrito**"
   ]
  },
  {
   "cell_type": "code",
   "execution_count": 7,
   "id": "bf49eeba-bd57-4a79-a393-db8b59d7ca7b",
   "metadata": {},
   "outputs": [],
   "source": [
    "a = 5"
   ]
  },
  {
   "cell_type": "code",
   "execution_count": null,
   "id": "8a14c421-cc5f-4cab-9d1b-0f96239429ac",
   "metadata": {},
   "outputs": [],
   "source": []
  },
  {
   "cell_type": "code",
   "execution_count": 13,
   "id": "dc8bd5ab-91a2-4246-af1b-a39b0eaa0ad4",
   "metadata": {},
   "outputs": [
    {
     "data": {
      "text/plain": [
       "'isto lblalblalb'"
      ]
     },
     "execution_count": 13,
     "metadata": {},
     "output_type": "execute_result"
    }
   ],
   "source": [
    "texto = \"isto lblalblalb\"\n",
    "texto"
   ]
  },
  {
   "cell_type": "code",
   "execution_count": 14,
   "id": "74dcac2d-128b-487c-9351-a65cdbd1f09a",
   "metadata": {},
   "outputs": [
    {
     "data": {
      "text/plain": [
       "str"
      ]
     },
     "execution_count": 14,
     "metadata": {},
     "output_type": "execute_result"
    }
   ],
   "source": [
    "type(texto)"
   ]
  },
  {
   "cell_type": "code",
   "execution_count": 17,
   "id": "c535c7e6-bbf6-4e34-a47f-e7b48965cf2b",
   "metadata": {},
   "outputs": [],
   "source": [
    "texto = \"agora é outro texto\""
   ]
  },
  {
   "cell_type": "code",
   "execution_count": 18,
   "id": "0cca7aad-fa93-45e3-acef-3e835ea5f696",
   "metadata": {},
   "outputs": [
    {
     "name": "stdout",
     "output_type": "stream",
     "text": [
      "agora é outro texto\n"
     ]
    }
   ],
   "source": [
    "print(texto)"
   ]
  },
  {
   "cell_type": "code",
   "execution_count": 29,
   "id": "49b3a9df-1e1e-4349-b062-23c5890b8f17",
   "metadata": {},
   "outputs": [
    {
     "name": "stdin",
     "output_type": "stream",
     "text": [
      "entre com um numero 3.14\n"
     ]
    }
   ],
   "source": [
    "numero = input(\"entre com um numero\")"
   ]
  },
  {
   "cell_type": "code",
   "execution_count": 30,
   "id": "a2f258c1-7a23-4089-9ea5-74db7f515712",
   "metadata": {},
   "outputs": [
    {
     "data": {
      "text/plain": [
       "'3.14'"
      ]
     },
     "execution_count": 30,
     "metadata": {},
     "output_type": "execute_result"
    }
   ],
   "source": [
    "numero"
   ]
  },
  {
   "cell_type": "code",
   "execution_count": 31,
   "id": "8ace3a45-04c3-4863-94e9-da7a2c55dfc2",
   "metadata": {},
   "outputs": [
    {
     "data": {
      "text/plain": [
       "str"
      ]
     },
     "execution_count": 31,
     "metadata": {},
     "output_type": "execute_result"
    }
   ],
   "source": [
    "type(numero)"
   ]
  },
  {
   "cell_type": "code",
   "execution_count": 33,
   "id": "e4e1fd1c-f73b-4343-8ab7-99b84e662994",
   "metadata": {},
   "outputs": [
    {
     "data": {
      "text/plain": [
       "3.14"
      ]
     },
     "execution_count": 33,
     "metadata": {},
     "output_type": "execute_result"
    }
   ],
   "source": [
    "float(numero)"
   ]
  },
  {
   "cell_type": "code",
   "execution_count": 35,
   "id": "6c931845-dc9d-479b-a9f3-8c4dcb29d8e1",
   "metadata": {},
   "outputs": [
    {
     "data": {
      "text/plain": [
       "3.14"
      ]
     },
     "execution_count": 35,
     "metadata": {},
     "output_type": "execute_result"
    }
   ],
   "source": [
    "numero_float = float(numero)\n",
    "numero_float"
   ]
  },
  {
   "cell_type": "code",
   "execution_count": 36,
   "id": "61ec0807-9181-4f8a-ae2c-e6b0f705366f",
   "metadata": {},
   "outputs": [
    {
     "data": {
      "text/plain": [
       "'3.14'"
      ]
     },
     "execution_count": 36,
     "metadata": {},
     "output_type": "execute_result"
    }
   ],
   "source": [
    "str(numero_float)"
   ]
  },
  {
   "cell_type": "code",
   "execution_count": 37,
   "id": "2e41a70d-30fe-4b02-a6d1-73cd8df1da73",
   "metadata": {},
   "outputs": [
    {
     "data": {
      "text/plain": [
       "1.0"
      ]
     },
     "execution_count": 37,
     "metadata": {},
     "output_type": "execute_result"
    }
   ],
   "source": [
    "1*1.0"
   ]
  },
  {
   "cell_type": "code",
   "execution_count": 38,
   "id": "40c00d04-77cb-43e5-9eac-d73154dc9391",
   "metadata": {},
   "outputs": [
    {
     "data": {
      "text/plain": [
       "'ivonaldovieira'"
      ]
     },
     "execution_count": 38,
     "metadata": {},
     "output_type": "execute_result"
    }
   ],
   "source": [
    "\"ivonaldo\" + \"vieira\""
   ]
  },
  {
   "cell_type": "code",
   "execution_count": 39,
   "id": "e646ab4a-f456-4604-937e-b5f04f2a7148",
   "metadata": {},
   "outputs": [],
   "source": [
    "bobagem = \"bla\""
   ]
  },
  {
   "cell_type": "code",
   "execution_count": 40,
   "id": "9a9aa371-d556-4de1-9172-eab2b2bbffc9",
   "metadata": {},
   "outputs": [
    {
     "data": {
      "text/plain": [
       "'blablablablablablablablablabla'"
      ]
     },
     "execution_count": 40,
     "metadata": {},
     "output_type": "execute_result"
    }
   ],
   "source": [
    "bobagem*10"
   ]
  },
  {
   "cell_type": "code",
   "execution_count": 42,
   "id": "126103bb-576e-46c5-bf07-84a36833895a",
   "metadata": {},
   "outputs": [
    {
     "data": {
      "text/plain": [
       "['', 'vonaldo v', 'e', 'ra']"
      ]
     },
     "execution_count": 42,
     "metadata": {},
     "output_type": "execute_result"
    }
   ],
   "source": [
    "\"ivonaldo vieira\".split('i')"
   ]
  },
  {
   "cell_type": "code",
   "execution_count": 44,
   "id": "275e5af3-9849-4850-92fa-822d8b5b354f",
   "metadata": {},
   "outputs": [
    {
     "data": {
      "text/plain": [
       "'ivonaldo vieira'"
      ]
     },
     "execution_count": 44,
     "metadata": {},
     "output_type": "execute_result"
    }
   ],
   "source": [
    "' '.join(['ivonaldo','vieira'])"
   ]
  },
  {
   "cell_type": "code",
   "execution_count": 45,
   "id": "633a22ab-a3ae-46a4-8f36-5b3e7802b8fd",
   "metadata": {},
   "outputs": [],
   "source": [
    "meutexto = 'bla'"
   ]
  },
  {
   "cell_type": "code",
   "execution_count": 46,
   "id": "1c82fb38-24bc-4d4d-a15e-4a102ae04cd9",
   "metadata": {},
   "outputs": [
    {
     "data": {
      "text/plain": [
       "'BLA'"
      ]
     },
     "execution_count": 46,
     "metadata": {},
     "output_type": "execute_result"
    }
   ],
   "source": [
    "meutexto.upper()"
   ]
  },
  {
   "cell_type": "code",
   "execution_count": null,
   "id": "d04bbf53-3e43-4f30-9379-1b61d00dbc99",
   "metadata": {},
   "outputs": [],
   "source": []
  }
 ],
 "metadata": {
  "kernelspec": {
   "display_name": "Python 3 (ipykernel)",
   "language": "python",
   "name": "python3"
  },
  "language_info": {
   "codemirror_mode": {
    "name": "ipython",
    "version": 3
   },
   "file_extension": ".py",
   "mimetype": "text/x-python",
   "name": "python",
   "nbconvert_exporter": "python",
   "pygments_lexer": "ipython3",
   "version": "3.10.9"
  }
 },
 "nbformat": 4,
 "nbformat_minor": 5
}
