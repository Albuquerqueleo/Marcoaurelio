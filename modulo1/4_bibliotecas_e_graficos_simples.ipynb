{
 "cells": [
  {
   "cell_type": "markdown",
   "id": "d583f477-3777-40ff-9ada-9b46aab69b03",
   "metadata": {},
   "source": [
    "## Importando bibliotecas"
   ]
  },
  {
   "cell_type": "code",
   "execution_count": 12,
   "id": "95487ad5-47d5-4c5d-9b6b-72c401ab9ca0",
   "metadata": {},
   "outputs": [],
   "source": [
    "import math"
   ]
  },
  {
   "cell_type": "code",
   "execution_count": 13,
   "id": "3891c477-a6ec-4c99-bc94-8e7496553507",
   "metadata": {},
   "outputs": [
    {
     "data": {
      "text/plain": [
       "2.0"
      ]
     },
     "execution_count": 13,
     "metadata": {},
     "output_type": "execute_result"
    }
   ],
   "source": [
    "math.sqrt(4)"
   ]
  },
  {
   "cell_type": "code",
   "execution_count": 14,
   "id": "c9885b6a-f007-4421-b54e-d7b8a121aacb",
   "metadata": {},
   "outputs": [],
   "source": [
    "from math import sqrt"
   ]
  },
  {
   "cell_type": "code",
   "execution_count": 15,
   "id": "8cb6de0c-a636-4257-b3bd-d3ac6741a7b9",
   "metadata": {},
   "outputs": [
    {
     "data": {
      "text/plain": [
       "2.0"
      ]
     },
     "execution_count": 15,
     "metadata": {},
     "output_type": "execute_result"
    }
   ],
   "source": [
    "sqrt(4)"
   ]
  },
  {
   "cell_type": "markdown",
   "id": "e31c70d9-cb8a-4591-bc79-5de3fb853d34",
   "metadata": {},
   "source": [
    "Um pequeno teste:"
   ]
  },
  {
   "cell_type": "code",
   "execution_count": 16,
   "id": "ada3536e-ddbc-4111-ae13-62941f5c914c",
   "metadata": {},
   "outputs": [
    {
     "data": {
      "text/plain": [
       "True"
      ]
     },
     "execution_count": 16,
     "metadata": {},
     "output_type": "execute_result"
    }
   ],
   "source": [
    "sqrt(4) == math.sqrt(4)"
   ]
  },
  {
   "cell_type": "code",
   "execution_count": 17,
   "id": "cf9415d1-85c1-46b3-bdfe-1852a629bbc0",
   "metadata": {},
   "outputs": [
    {
     "data": {
      "text/plain": [
       "<function math.sqrt(x, /)>"
      ]
     },
     "execution_count": 17,
     "metadata": {},
     "output_type": "execute_result"
    }
   ],
   "source": [
    "sqrt"
   ]
  },
  {
   "cell_type": "code",
   "execution_count": 18,
   "id": "d18dbe66-e72b-4fcc-8227-5d335a253151",
   "metadata": {},
   "outputs": [
    {
     "data": {
      "text/plain": [
       "<function math.sqrt(x, /)>"
      ]
     },
     "execution_count": 18,
     "metadata": {},
     "output_type": "execute_result"
    }
   ],
   "source": [
    "math.sqrt"
   ]
  },
  {
   "cell_type": "markdown",
   "id": "229e92fa-cbd4-46d0-b00a-9128cb1f0a23",
   "metadata": {},
   "source": [
    "A palavra reservada `is` se duas variáveis/referências apontam para um mesmo objeto. Note então que, como importamos `sqrt` duas vezes, criamos dois nomes para ela, mas ambos apontam para o mesmo objeto."
   ]
  },
  {
   "cell_type": "code",
   "execution_count": 19,
   "id": "8892c075-3e0f-4791-9937-e26b433bd617",
   "metadata": {},
   "outputs": [
    {
     "data": {
      "text/plain": [
       "True"
      ]
     },
     "execution_count": 19,
     "metadata": {},
     "output_type": "execute_result"
    }
   ],
   "source": [
    "sqrt is math.sqrt"
   ]
  },
  {
   "cell_type": "markdown",
   "id": "5d2ae7d6-4f41-4004-9b14-8b247f8d4d10",
   "metadata": {},
   "source": [
    "Apenas para reforçar este conceito, vamos importar a função `sqrt` da  biblioteca Numpy."
   ]
  },
  {
   "cell_type": "code",
   "execution_count": 23,
   "id": "2cbda60a-a599-4d25-a328-941f41650a89",
   "metadata": {},
   "outputs": [],
   "source": [
    "import numpy as np\n",
    "from numpy import sqrt as sqrt2"
   ]
  },
  {
   "cell_type": "code",
   "execution_count": 24,
   "id": "d947e337-f676-47b3-9645-ebc4c080baaa",
   "metadata": {},
   "outputs": [
    {
     "data": {
      "text/plain": [
       "False"
      ]
     },
     "execution_count": 24,
     "metadata": {},
     "output_type": "execute_result"
    }
   ],
   "source": [
    "sqrt is np.sqrt"
   ]
  },
  {
   "cell_type": "code",
   "execution_count": 25,
   "id": "ed1cd7e6-caac-4ca2-b9fb-c08c647370b5",
   "metadata": {},
   "outputs": [
    {
     "data": {
      "text/plain": [
       "False"
      ]
     },
     "execution_count": 25,
     "metadata": {},
     "output_type": "execute_result"
    }
   ],
   "source": [
    "sqrt is sqrt2"
   ]
  },
  {
   "cell_type": "markdown",
   "id": "2ae13f10-a797-4428-9889-9496cfeff2f5",
   "metadata": {},
   "source": [
    "Detalhe, em projetos de software de verdade nunca renomei uma função de uma biblioteca."
   ]
  },
  {
   "cell_type": "markdown",
   "id": "ec4f4028-ad90-47bf-9d00-a7baa2ad000b",
   "metadata": {},
   "source": [
    "## Criando gráficos simples\n",
    "\n",
    "Vamos prosseguir nossa aprendizagem sobre usos de bibliotecas criando alguns gráficos simples utilizando a biblioteca `matplotlib`, que é uma biblioteca muito utilizada em python. Ao invés de chamarmos a biblioteca toda, vamos chamar um modulo desta biblioteca `matplotlib.pyplot` e iremos renomea-la para `plt` visto que esta é uma convenção adotada pelo comunidade que escreveu esta biblioteca. De novo iremos utilizar listas e nesta altura do campeonato você já deve estar começando a entender como elas funcionam: apenas coloque um monte de objetos separados por vírgulas e delimitados por colchetes para criar uma lista. "
   ]
  },
  {
   "cell_type": "code",
   "execution_count": 26,
   "id": "f7980c51-33f9-4d8f-946e-466513aa6fbd",
   "metadata": {},
   "outputs": [],
   "source": [
    "import matplotlib.pyplot as plt"
   ]
  },
  {
   "cell_type": "code",
   "execution_count": 27,
   "id": "16b61f97-a097-4577-949a-590289413e7f",
   "metadata": {},
   "outputs": [
    {
     "data": {
      "text/plain": [
       "[1, 2, 3, 4, 5]"
      ]
     },
     "execution_count": 27,
     "metadata": {},
     "output_type": "execute_result"
    }
   ],
   "source": [
    "x = [1,2,3,4,5]\n",
    "x"
   ]
  },
  {
   "cell_type": "markdown",
   "id": "c007dbca-7894-4f7a-92af-034588fae355",
   "metadata": {},
   "source": [
    "Note que no exemplo acima a variável aparece repetida. Os interpretadores python, por padrão, imprimem o valor da última operação realizada e o Jupyter faz o mesmo para a última operação em uma célula."
   ]
  },
  {
   "cell_type": "code",
   "execution_count": 29,
   "id": "a8299294-557f-4be6-ba37-0b7607c05e4c",
   "metadata": {},
   "outputs": [
    {
     "data": {
      "text/plain": [
       "[-10, -8, -3, 5, 10]"
      ]
     },
     "execution_count": 29,
     "metadata": {},
     "output_type": "execute_result"
    }
   ],
   "source": [
    "y = [-10, -8, -3, 5, 10]\n",
    "y"
   ]
  },
  {
   "cell_type": "markdown",
   "id": "93bd0f5f-d021-4d6e-8cbe-df345325fb8a",
   "metadata": {},
   "source": [
    "Para im"
   ]
  },
  {
   "cell_type": "code",
   "execution_count": 30,
   "id": "049b67a7-8049-44e8-8477-8e2b081ad862",
   "metadata": {},
   "outputs": [
    {
     "data": {
      "text/plain": [
       "[<matplotlib.lines.Line2D at 0x7f3f540a5660>]"
      ]
     },
     "execution_count": 30,
     "metadata": {},
     "output_type": "execute_result"
    },
    {
     "data": {
      "image/png": "[encoded data removed]",
      "text/plain": [
       "<Figure size 432x288 with 1 Axes>"
      ]
     },
     "metadata": {
      "needs_background": "light"
     },
     "output_type": "display_data"
    }
   ],
   "source": [
    "plt.plot(x,y)"
   ]
  },
  {
   "cell_type": "code",
   "execution_count": 32,
   "id": "f0508d97-e1b3-425b-bfad-d9682c595006",
   "metadata": {},
   "outputs": [
    {
     "data": {
      "text/plain": [
       "[<matplotlib.lines.Line2D at 0x7f3f540e7370>]"
      ]
     },
     "execution_count": 32,
     "metadata": {},
     "output_type": "execute_result"
    },
    {
     "data": {
      "image/png": "[encoded data removed]",
      "text/plain": [
       "<Figure size 432x288 with 1 Axes>"
      ]
     },
     "metadata": {
      "needs_background": "light"
     },
     "output_type": "display_data"
    }
   ],
   "source": [
    "plt.plot(x,y,'r+')"
   ]
  }
 ],
 "metadata": {
  "kernelspec": {
   "display_name": "Python 3 (ipykernel)",
   "language": "python",
   "name": "python3"
  },
  "language_info": {
   "codemirror_mode": {
    "name": "ipython",
    "version": 3
   },
   "file_extension": ".py",
   "mimetype": "text/x-python",
   "name": "python",
   "nbconvert_exporter": "python",
   "pygments_lexer": "ipython3",
   "version": "3.10.9"
  }
 },
 "nbformat": 4,
 "nbformat_minor": 5
}
