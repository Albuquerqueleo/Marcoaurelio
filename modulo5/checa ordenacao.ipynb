{
 "cells": [
  {
   "cell_type": "code",
   "execution_count": 8,
   "id": "050bd8af-4a12-4218-9880-ded4b4eb21de",
   "metadata": {},
   "outputs": [],
   "source": [
    "lista_des = [9, 6, 8, 1, 0]\n",
    "lista_ord = [0, 1, 6, 8, 9]"
   ]
  },
  {
   "cell_type": "code",
   "execution_count": 9,
   "id": "19375c72-1c30-4bfb-8de8-8da04fac4a11",
   "metadata": {},
   "outputs": [],
   "source": [
    "def ordenada(lista):\n",
    "    return lista == sorted(lista)"
   ]
  },
  {
   "cell_type": "code",
   "execution_count": 10,
   "id": "2b008b92-4d04-46b2-86f3-934e45cada8e",
   "metadata": {},
   "outputs": [
    {
     "data": {
      "text/plain": [
       "False"
      ]
     },
     "execution_count": 10,
     "metadata": {},
     "output_type": "execute_result"
    }
   ],
   "source": [
    "ordenada(lista_des)"
   ]
  },
  {
   "cell_type": "code",
   "execution_count": 11,
   "id": "61780aa2-e887-46d8-a3fe-86385346ff1d",
   "metadata": {},
   "outputs": [],
   "source": [
    "resultado = sorted(lista_des)"
   ]
  },
  {
   "cell_type": "code",
   "execution_count": 12,
   "id": "096476f5-a2c1-42d2-b3d4-33137672c15a",
   "metadata": {},
   "outputs": [
    {
     "data": {
      "text/plain": [
       "[0, 1, 6, 8, 9]"
      ]
     },
     "execution_count": 12,
     "metadata": {},
     "output_type": "execute_result"
    }
   ],
   "source": [
    "resultado"
   ]
  },
  {
   "cell_type": "code",
   "execution_count": null,
   "id": "fc2be790-e21e-4f5a-b4eb-ddeb082d3914",
   "metadata": {},
   "outputs": [],
   "source": []
  },
  {
   "cell_type": "code",
   "execution_count": null,
   "id": "4551e649-d38c-430e-a892-474cbc3faa61",
   "metadata": {},
   "outputs": [],
   "source": []
  },
  {
   "cell_type": "code",
   "execution_count": null,
   "id": "d7fa6e69-93e2-48ea-8cb9-9748187b7be8",
   "metadata": {},
   "outputs": [],
   "source": []
  },
  {
   "cell_type": "code",
   "execution_count": 5,
   "id": "87320282-7d06-4809-842a-b783d14931c6",
   "metadata": {},
   "outputs": [],
   "source": [
    "resultado = lista_des.sort()"
   ]
  },
  {
   "cell_type": "code",
   "execution_count": 6,
   "id": "85808cf5-68a4-404a-9734-c1197e4308b6",
   "metadata": {},
   "outputs": [
    {
     "name": "stdout",
     "output_type": "stream",
     "text": [
      "None\n"
     ]
    }
   ],
   "source": [
    "print(resultado)"
   ]
  },
  {
   "cell_type": "code",
   "execution_count": 7,
   "id": "f0f402a1-05f7-4837-a9bf-fe1f0799f7cd",
   "metadata": {},
   "outputs": [
    {
     "data": {
      "text/plain": [
       "[0, 1, 6, 8, 9]"
      ]
     },
     "execution_count": 7,
     "metadata": {},
     "output_type": "execute_result"
    }
   ],
   "source": [
    "lista_des"
   ]
  },
  {
   "cell_type": "code",
   "execution_count": null,
   "id": "7b755a22-c265-45a5-8a09-cc0c2e2757f6",
   "metadata": {},
   "outputs": [],
   "source": []
  }
 ],
 "metadata": {
  "kernelspec": {
   "display_name": "Python 3 (ipykernel)",
   "language": "python",
   "name": "python3"
  },
  "language_info": {
   "codemirror_mode": {
    "name": "ipython",
    "version": 3
   },
   "file_extension": ".py",
   "mimetype": "text/x-python",
   "name": "python",
   "nbconvert_exporter": "python",
   "pygments_lexer": "ipython3",
   "version": "3.10.6"
  }
 },
 "nbformat": 4,
 "nbformat_minor": 5
}
