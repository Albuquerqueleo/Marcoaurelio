{
 "cells": [
  {
   "cell_type": "markdown",
   "id": "6a51d93d-d7fa-4f40-b162-2123eaf53aae",
   "metadata": {},
   "source": [
    "Contruindo listas"
   ]
  },
  {
   "cell_type": "code",
   "execution_count": 3,
   "id": "cae2a245-9f69-4c75-aa6e-b96e760bc202",
   "metadata": {},
   "outputs": [
    {
     "name": "stdout",
     "output_type": "stream",
     "text": [
      "[1, 8, 5, 3, -9, 234, -23, 42, 34] \n",
      " ['alkdjsfalks', '12341564789', '%#$$', '10/12/2035'] \n",
      " [3.14, 0.0, 1.0, 2.71, -0.121212]\n"
     ]
    }
   ],
   "source": [
    "numeros = [1,8,5,3,-9,234,-23,42,34]\n",
    "reais = [3.14, 0.0, 1.0, 2.71, -0.121212]\n",
    "varios_strings = [\"alkdjsfalks\", \"12341564789\", \"%#$$\", \"10/12/2035\"]\n",
    "print(numeros, '\\n', varios_strings, '\\n', reais)"
   ]
  },
  {
   "cell_type": "markdown",
   "id": "a07e55d1-6c45-4da3-9aa3-730ef679d5f9",
   "metadata": {},
   "source": [
    "Listas vazias"
   ]
  },
  {
   "cell_type": "code",
   "execution_count": 7,
   "id": "9be5d9ca-80e7-4970-9a58-7280dc8b405f",
   "metadata": {},
   "outputs": [
    {
     "name": "stdout",
     "output_type": "stream",
     "text": [
      "[]\n"
     ]
    }
   ],
   "source": [
    "lista_vazia1 = []\n",
    "print(lista_vazia1)"
   ]
  },
  {
   "cell_type": "markdown",
   "id": "45825fd6-e452-4860-b154-cea591fac9f6",
   "metadata": {},
   "source": [
    "Criando listas com a função embutida `list()`"
   ]
  },
  {
   "cell_type": "code",
   "execution_count": 12,
   "id": "497f0aa9-be08-4d03-b2d6-a0f02ab8ae10",
   "metadata": {},
   "outputs": [],
   "source": [
    "vazio = list()\n",
    "lista_maluca = list((1, 0.0, 3.14, \"texto aleatório\", print, enumerate))\n",
    "card_ranks = list(\"A123456789JQK\")"
   ]
  },
  {
   "cell_type": "code",
   "execution_count": 13,
   "id": "0d851b55-3f99-4961-92a8-74a767625b82",
   "metadata": {},
   "outputs": [
    {
     "name": "stdout",
     "output_type": "stream",
     "text": [
      "[] \n",
      " [1, 0.0, 3.14, 'texto aleatório', <built-in function print>, <class 'enumerate'>] \n",
      " ['A', '1', '2', '3', '4', '5', '6', '7', '8', '9', 'J', 'Q', 'K']\n"
     ]
    }
   ],
   "source": [
    "print(vazio, '\\n', lista_maluca, '\\n', card_ranks)"
   ]
  },
  {
   "cell_type": "markdown",
   "id": "e1b5d95b-6058-4291-8975-05bcbae4abea",
   "metadata": {},
   "source": [
    "Acessando elementos de uma lista"
   ]
  },
  {
   "cell_type": "code",
   "execution_count": 18,
   "id": "29e19f91-9823-4097-a99b-7a9544dcd096",
   "metadata": {},
   "outputs": [],
   "source": [
    "nomes = ['Marco', 'Ivonaldo', 'Leonardo', 'Márcio']\n",
    "matriculas = [ 1042271, 1041703, 1040997, 18005491]"
   ]
  },
  {
   "cell_type": "markdown",
   "id": "5f32b1f8-e411-4def-8c22-af52537ee01d",
   "metadata": {},
   "source": [
    "Usando o perador Operador `[]`"
   ]
  },
  {
   "cell_type": "code",
   "execution_count": 20,
   "id": "2426c881-8767-4c41-8b07-7c4e6a0455d4",
   "metadata": {},
   "outputs": [
    {
     "data": {
      "text/plain": [
       "('Marco', 1042271)"
      ]
     },
     "execution_count": 20,
     "metadata": {},
     "output_type": "execute_result"
    }
   ],
   "source": [
    "nomes[0]"
   ]
  },
  {
   "cell_type": "code",
   "execution_count": 30,
   "id": "7ed2f20b-c2bb-4cec-bfad-579cc47e22a4",
   "metadata": {},
   "outputs": [
    {
     "data": {
      "text/plain": [
       "('Marco', 'Márcio', 'Ivonaldo')"
      ]
     },
     "execution_count": 30,
     "metadata": {},
     "output_type": "execute_result"
    }
   ],
   "source": [
    "nomes[0], nomes[-1], nomes[1]"
   ]
  },
  {
   "cell_type": "code",
   "execution_count": 31,
   "id": "cc7125bb-e350-4a18-ba8b-0fc689c8b494",
   "metadata": {},
   "outputs": [
    {
     "data": {
      "text/plain": [
       "(['Ivonaldo', 'Leonardo', 'Márcio'],\n",
       " ['Ivonaldo', 'Leonardo', 'Márcio'],\n",
       " ['Ivonaldo', 'Leonardo', 'Márcio'])"
      ]
     },
     "execution_count": 31,
     "metadata": {},
     "output_type": "execute_result"
    }
   ],
   "source": [
    "(nomes[1:len(nomes)], \n",
    " nomes[1:4], \n",
    " nomes[1:])"
   ]
  },
  {
   "cell_type": "markdown",
   "id": "ae54c899-8376-4765-969a-f7447415b5be",
   "metadata": {},
   "source": [
    "Descobrindo se existem elementos em uma lista"
   ]
  },
  {
   "cell_type": "code",
   "execution_count": 32,
   "id": "e2ec1fb2-b9aa-4743-a947-0d2397ce364a",
   "metadata": {},
   "outputs": [
    {
     "data": {
      "text/plain": [
       "['Marco', 'Ivonaldo', 'Leonardo', 'Márcio']"
      ]
     },
     "execution_count": 32,
     "metadata": {},
     "output_type": "execute_result"
    }
   ],
   "source": [
    "nomes"
   ]
  },
  {
   "cell_type": "markdown",
   "id": "5c2da407-48bc-439c-9f11-991e33c284c3",
   "metadata": {},
   "source": [
    "Para descobrir se existe um elemento dentro de uma lista, podemos usar a cláusula `in`, de uma forma análoga ao que fizemos para descobri r se um string possui um caracter."
   ]
  },
  {
   "cell_type": "code",
   "execution_count": 34,
   "id": "8a60875c-fe37-4913-a2b5-33c12cd420ef",
   "metadata": {},
   "outputs": [
    {
     "name": "stdout",
     "output_type": "stream",
     "text": [
      "False\n",
      "True\n"
     ]
    }
   ],
   "source": [
    "letras = 'abcd'\n",
    "print('z' in letras)\n",
    "print('a' in letras)"
   ]
  },
  {
   "cell_type": "code",
   "execution_count": 36,
   "id": "8f7d1726-8ace-416b-b2a6-18eacbe3eb53",
   "metadata": {},
   "outputs": [
    {
     "name": "stdout",
     "output_type": "stream",
     "text": [
      "['Marco', 'Ivonaldo', 'Leonardo', 'Márcio']\n",
      "True\n",
      "False\n"
     ]
    }
   ],
   "source": [
    "print(nomes)\n",
    "print('Marco' in nomes)\n",
    "print('João' in nomes)"
   ]
  },
  {
   "cell_type": "code",
   "execution_count": 40,
   "id": "29c3ecf3-61d4-4d9e-a1a0-369e5d0ef3c3",
   "metadata": {},
   "outputs": [
    {
     "name": "stdout",
     "output_type": "stream",
     "text": [
      "Ivonaldo está no índice 1\n"
     ]
    }
   ],
   "source": [
    "busca = 'Ivonaldo'\n",
    "print(busca, 'está no índice', nomes.index(busca))"
   ]
  },
  {
   "cell_type": "code",
   "execution_count": 41,
   "id": "6104dd56-fb7d-46e2-9600-b0e96a6e2f6f",
   "metadata": {},
   "outputs": [
    {
     "name": "stdout",
     "output_type": "stream",
     "text": [
      "Márcio está no índice 3\n"
     ]
    }
   ],
   "source": [
    "busca = 'Márcio'\n",
    "print(busca, 'está no índice', nomes.index(busca))"
   ]
  },
  {
   "cell_type": "markdown",
   "id": "9dc471b3-40da-48cc-b971-28936f675e0e",
   "metadata": {},
   "source": [
    "Agora queremos incluir novos elemento na lista.\n",
    "\n",
    "- adição criando uma nova lista\n",
    "- reatribuição"
   ]
  },
  {
   "cell_type": "code",
   "execution_count": 44,
   "id": "02236535-29fb-4ddd-a74a-1b7c9e655c6a",
   "metadata": {},
   "outputs": [],
   "source": [
    "nomes = ['Marco', 'Ivonaldo', 'Leonardo', 'Márcio']"
   ]
  },
  {
   "cell_type": "code",
   "execution_count": 46,
   "id": "005280dd-a58b-478f-815c-614f44cc12f5",
   "metadata": {},
   "outputs": [
    {
     "name": "stdout",
     "output_type": "stream",
     "text": [
      "['Marco', 'Ivonaldo', 'Leonardo', 'Márcio']\n",
      "['Marco', 'Ivonaldo', 'Leonardo', 'Márcio', 'Rutherford', 'Bohr']\n"
     ]
    }
   ],
   "source": [
    "novos_nomes = nomes + ['Rutherford', 'Bohr']  # Adição de listas\n",
    "print(nomes)\n",
    "print(novos_nomes)"
   ]
  },
  {
   "cell_type": "markdown",
   "id": "bd2b8b1d-6e52-49d3-a71e-6070ca0688a6",
   "metadata": {},
   "source": [
    "Adicionar um elemento em uma lista com o método `append()`"
   ]
  },
  {
   "cell_type": "code",
   "execution_count": 54,
   "id": "6e19772a-8c3c-49ff-9ee9-240992ad86cb",
   "metadata": {},
   "outputs": [
    {
     "data": {
      "text/plain": [
       "['Marco', 'Ivonaldo', 'Leonardo', 'Márcio']"
      ]
     },
     "execution_count": 54,
     "metadata": {},
     "output_type": "execute_result"
    }
   ],
   "source": [
    "nomes = ['Marco', 'Ivonaldo', 'Leonardo', 'Márcio']\n",
    "nomes"
   ]
  },
  {
   "cell_type": "code",
   "execution_count": 55,
   "id": "ba3b5549-0148-4d3a-aa22-085db1ed720d",
   "metadata": {},
   "outputs": [
    {
     "data": {
      "text/plain": [
       "['Marco', 'Ivonaldo', 'Leonardo', 'Márcio', 'Rutherford']"
      ]
     },
     "execution_count": 55,
     "metadata": {},
     "output_type": "execute_result"
    }
   ],
   "source": [
    "nomes.append('Rutherford')\n",
    "nomes"
   ]
  },
  {
   "cell_type": "code",
   "execution_count": 57,
   "id": "f4cc2f94-159e-470b-a927-f51a04d0d16c",
   "metadata": {
    "collapsed": true,
    "jupyter": {
     "outputs_hidden": true
    },
    "tags": []
   },
   "outputs": [
    {
     "ename": "TypeError",
     "evalue": "list.append() takes exactly one argument (2 given)",
     "output_type": "error",
     "traceback": [
      "\u001b[0;31m---------------------------------------------------------------------------\u001b[0m",
      "\u001b[0;31mTypeError\u001b[0m                                 Traceback (most recent call last)",
      "Cell \u001b[0;32mIn [57], line 2\u001b[0m\n\u001b[1;32m      1\u001b[0m \u001b[38;5;66;03m# erro\u001b[39;00m\n\u001b[0;32m----> 2\u001b[0m \u001b[43mnomes\u001b[49m\u001b[38;5;241;43m.\u001b[39;49m\u001b[43mappend\u001b[49m\u001b[43m(\u001b[49m\u001b[38;5;124;43m'\u001b[39;49m\u001b[38;5;124;43mFulano\u001b[39;49m\u001b[38;5;124;43m'\u001b[39;49m\u001b[43m,\u001b[49m\u001b[43m \u001b[49m\u001b[38;5;124;43m'\u001b[39;49m\u001b[38;5;124;43mciclano\u001b[39;49m\u001b[38;5;124;43m'\u001b[39;49m\u001b[43m)\u001b[49m\n",
      "\u001b[0;31mTypeError\u001b[0m: list.append() takes exactly one argument (2 given)"
     ]
    }
   ],
   "source": [
    "# erro\n",
    "nomes.append('Fulano', 'ciclano')"
   ]
  },
  {
   "cell_type": "code",
   "execution_count": 58,
   "id": "0a2e904a-8961-4f1c-806d-d24df4d00635",
   "metadata": {
    "collapsed": true,
    "jupyter": {
     "outputs_hidden": true
    },
    "tags": []
   },
   "outputs": [
    {
     "data": {
      "text/plain": [
       "['Marco',\n",
       " 'Ivonaldo',\n",
       " 'Leonardo',\n",
       " 'Márcio',\n",
       " 'Rutherford',\n",
       " ['Fulano', 'ciclano']]"
      ]
     },
     "execution_count": 58,
     "metadata": {},
     "output_type": "execute_result"
    }
   ],
   "source": [
    "# erro\n",
    "nomes.append(['Fulano', 'ciclano'])\n",
    "nomes"
   ]
  },
  {
   "cell_type": "code",
   "execution_count": 60,
   "id": "e78bde18-6cbd-4ebb-867b-0225a92545b3",
   "metadata": {},
   "outputs": [],
   "source": [
    "# jeito certo\n",
    "nomes = ['Marco', 'Ivonaldo', 'Leonardo', 'Márcio']\n",
    "novos_nomes = ['Fulano', 'Ciclano']\n",
    "\n",
    "for nome in novos_nomes: #'Maria', 'João':\n",
    "    nomes.append(nome)"
   ]
  },
  {
   "cell_type": "markdown",
   "id": "9a773dc1-c3fb-4510-931b-59d8aa3a80be",
   "metadata": {},
   "source": [
    "Apagando elementos em uma lista;\n",
    "\n",
    "Duas estratégias:\n",
    "1) Em uma posição conhecida;\n",
    "2) O último;\n",
    "\n",
    "Vamos começar pela primeira possibilidade, usando a palavra reservada `del`"
   ]
  },
  {
   "cell_type": "code",
   "execution_count": 68,
   "id": "335eaa67-e47d-4824-935c-44be88c14563",
   "metadata": {},
   "outputs": [],
   "source": [
    "nomes = ['Marco', 'Ivonaldo', 'Leonardo', 'Márcio', 'Fulano', 'Ciclano']"
   ]
  },
  {
   "cell_type": "markdown",
   "id": "9d4ba7ac-c07b-4b4a-ad51-7c5cab5968b1",
   "metadata": {},
   "source": [
    "Quero retirar o Leonardo, sabendo a posição dele;"
   ]
  },
  {
   "cell_type": "code",
   "execution_count": 69,
   "id": "e7680171-65f0-4ff8-80fe-ed946755913b",
   "metadata": {},
   "outputs": [],
   "source": [
    "del nomes[2]"
   ]
  },
  {
   "cell_type": "code",
   "execution_count": 70,
   "id": "0e3a349b-cf98-451d-9e7a-2fa22c578732",
   "metadata": {},
   "outputs": [
    {
     "data": {
      "text/plain": [
       "['Marco', 'Ivonaldo', 'Márcio', 'Fulano', 'Ciclano']"
      ]
     },
     "execution_count": 70,
     "metadata": {},
     "output_type": "execute_result"
    }
   ],
   "source": [
    "nomes"
   ]
  },
  {
   "cell_type": "markdown",
   "id": "a680621a-268e-4b9d-8a3f-ca99cfbf6778",
   "metadata": {},
   "source": [
    "Se não souber a posição, vamos descobrir e depois retiramos;\n"
   ]
  },
  {
   "cell_type": "code",
   "execution_count": 71,
   "id": "2c93f179-c38b-489d-9add-5fe19dcfa8e1",
   "metadata": {},
   "outputs": [
    {
     "data": {
      "text/plain": [
       "2"
      ]
     },
     "execution_count": 71,
     "metadata": {},
     "output_type": "execute_result"
    }
   ],
   "source": [
    "nomes = ['Marco', 'Ivonaldo', 'Leonardo', 'Márcio', 'Fulano', 'Ciclano']\n",
    "pos = nomes.index('Leonardo')\n",
    "pos"
   ]
  },
  {
   "cell_type": "code",
   "execution_count": 72,
   "id": "77e1d1d6-9b94-49a3-a55a-2be3b808ce52",
   "metadata": {},
   "outputs": [],
   "source": [
    "del nomes[2]"
   ]
  },
  {
   "cell_type": "code",
   "execution_count": 73,
   "id": "7204e8e5-ba4e-4ced-bee2-167fe2b58a6d",
   "metadata": {},
   "outputs": [
    {
     "data": {
      "text/plain": [
       "['Marco', 'Ivonaldo', 'Márcio', 'Fulano', 'Ciclano']"
      ]
     },
     "execution_count": 73,
     "metadata": {},
     "output_type": "execute_result"
    }
   ],
   "source": [
    "nomes"
   ]
  },
  {
   "cell_type": "markdown",
   "id": "a9392a9d-4a02-4a9b-a6f8-12f7f294e6bd",
   "metadata": {},
   "source": [
    "Erros possíveis"
   ]
  },
  {
   "cell_type": "code",
   "execution_count": 74,
   "id": "2bca3b3e-20d5-4b29-a8c2-fc58d5ceb8a8",
   "metadata": {},
   "outputs": [
    {
     "ename": "IndexError",
     "evalue": "list assignment index out of range",
     "output_type": "error",
     "traceback": [
      "\u001b[0;31m---------------------------------------------------------------------------\u001b[0m",
      "\u001b[0;31mIndexError\u001b[0m                                Traceback (most recent call last)",
      "Cell \u001b[0;32mIn [74], line 1\u001b[0m\n\u001b[0;32m----> 1\u001b[0m \u001b[38;5;28;01mdel\u001b[39;00m nomes[\u001b[38;5;241m6\u001b[39m]\n",
      "\u001b[0;31mIndexError\u001b[0m: list assignment index out of range"
     ]
    }
   ],
   "source": [
    "del nomes[6]"
   ]
  },
  {
   "cell_type": "markdown",
   "id": "746cbb1b-b82f-480d-b8a6-ac0c36d6bd69",
   "metadata": {},
   "source": [
    "Para a próxima estratégia vamos utilizar o método `pop()`."
   ]
  },
  {
   "cell_type": "code",
   "execution_count": 76,
   "id": "1b16c095-bc96-4b4b-b398-482124d79140",
   "metadata": {},
   "outputs": [],
   "source": [
    "nomes = ['Marco', 'Ivonaldo', 'Leonardo', 'Márcio', 'Fulano', 'Ciclano']"
   ]
  },
  {
   "cell_type": "code",
   "execution_count": 77,
   "id": "3b2eda72-00ca-407a-904a-34c7d0aeea03",
   "metadata": {},
   "outputs": [],
   "source": [
    "ultimo_nome = nomes.pop()"
   ]
  },
  {
   "cell_type": "code",
   "execution_count": 78,
   "id": "e6ee1c0e-fabe-4052-9e93-c348079de4e4",
   "metadata": {},
   "outputs": [
    {
     "name": "stdout",
     "output_type": "stream",
     "text": [
      "O último nome é: Ciclano\n",
      "['Marco', 'Ivonaldo', 'Leonardo', 'Márcio', 'Fulano']\n"
     ]
    }
   ],
   "source": [
    "print('O último nome é:', ultimo_nome)\n",
    "print(nomes)"
   ]
  },
  {
   "cell_type": "code",
   "execution_count": null,
   "id": "5722ec2b-04d8-40ad-8f0b-99859e5e7eaf",
   "metadata": {},
   "outputs": [],
   "source": []
  }
 ],
 "metadata": {
  "kernelspec": {
   "display_name": "Python 3 (ipykernel)",
   "language": "python",
   "name": "python3"
  },
  "language_info": {
   "codemirror_mode": {
    "name": "ipython",
    "version": 3
   },
   "file_extension": ".py",
   "mimetype": "text/x-python",
   "name": "python",
   "nbconvert_exporter": "python",
   "pygments_lexer": "ipython3",
   "version": "3.10.6"
  }
 },
 "nbformat": 4,
 "nbformat_minor": 5
}
